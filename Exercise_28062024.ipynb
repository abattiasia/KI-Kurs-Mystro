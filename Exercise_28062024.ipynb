{
  "nbformat": 4,
  "nbformat_minor": 0,
  "metadata": {
    "colab": {
      "provenance": [],
      "authorship_tag": "ABX9TyPqAQDi6CpYFmFuN4YFMmeE",
      "include_colab_link": true
    },
    "kernelspec": {
      "name": "python3",
      "display_name": "Python 3"
    },
    "language_info": {
      "name": "python"
    }
  },
  "cells": [
    {
      "cell_type": "markdown",
      "metadata": {
        "id": "view-in-github",
        "colab_type": "text"
      },
      "source": [
        "<a href=\"https://colab.research.google.com/github/abattiasia/KI-Kurs-Mystro/blob/main/Exercise_28062024.ipynb\" target=\"_parent\"><img src=\"https://colab.research.google.com/assets/colab-badge.svg\" alt=\"Open In Colab\"/></a>"
      ]
    },
    {
      "cell_type": "markdown",
      "source": [
        "# Exercise at 28.06.2024 from Eng. Ola\n",
        "\n",
        "-Exercise: Simple Dice Game\n",
        "\n",
        "Objective:\n",
        "\n",
        "Create a simple dice game using Python. This exercise will help students understand classes, inheritance, and functions."
      ],
      "metadata": {
        "id": "b1NGjaIsICu1"
      }
    },
    {
      "cell_type": "markdown",
      "source": [
        "#Exercise: Simple Dice Game\n",
        "\n"
      ],
      "metadata": {
        "id": "3BrUwVWpOx0J"
      }
    },
    {
      "cell_type": "code",
      "source": [
        "\"\"\"\n",
        "01 --> Create a Base Class Player:\n",
        "  ○ Attributes:\n",
        "    class  --> ■ name: Name of the player (string)\n",
        "               ■ score: Player's score (integer, default is 0)\n",
        "  ○ Methods:\n",
        "    def  ■ __init__(self, name): Constructor to initialize the name and score.\n",
        "    def  ■ roll_dice(self): Method to simulate rolling a dice (random number between 1 and 6) and update the score.\n",
        "    def  ■ get_score(self): Method to return the player's current score.\n",
        "\n",
        "\"\"\"\n",
        "import random\n",
        "\n",
        "class Player:\n",
        "  def __init__(self, name):\n",
        "    self.name = name\n",
        "    self.score = 0\n",
        "\n",
        "  def roll_dice(self):\n",
        "    roll = random.randint(1,6)\n",
        "    self.score += roll\n",
        "    return roll\n",
        "\n",
        "  def get_score(self):\n",
        "    #print(f\"{self.name} has a score of {self.score}\")\n",
        "    return self.score\n"
      ],
      "metadata": {
        "id": "ONUd4IDnZGtq"
      },
      "execution_count": 35,
      "outputs": []
    },
    {
      "cell_type": "code",
      "source": [
        "\"\"\"\n",
        "02 class  --> Create a Subclass ComputerPlayer that Inherits from Player:\n",
        "    def __init__()  and  super().\n",
        "    ○ No additional attributes or methods needed for simplicity.\n",
        "\"\"\"\n",
        "# 02 Create a Subclass ComputerPlayer that Inherits from Player:\n",
        "class ComputerPlayer(Player):\n",
        "  def __init__(self, name=\"Computer\"):\n",
        "    super().__init__(name)\n",
        "\n",
        "\"\"\"\n",
        "03 Create a Game Class:\n",
        "    class with  ○ Attributes:\n",
        "          ■ player: An instance of the Player class.\n",
        "          ■ computer: An instance of the ComputerPlayer class.\n",
        "    ○ Methods:\n",
        "        def --> ■  __init__(self, player_name): Constructor to initialize the player nd computer player.\n",
        "        def --> ■ play_round(self): Method to play a round where both the player and computer roll the dice.\n",
        "        def --> ■ display_scores(self): Method to display the current scores of both players.\n",
        "        def --> ■ determine_winner(self): Method to determine the winner based on the scores\n",
        "\"\"\"\n",
        "#03 Create a Game Class:\n",
        "class Game:\n",
        "  def __init__(self, Player_name):\n",
        "    self.player = Player(Player_name)\n",
        "    self.Computer = ComputerPlayer()\n",
        "\n",
        "  def play_round(self):\n",
        "    Player_roll = self.player.roll_dice()\n",
        "    Computer_roll = self.Computer.roll_dice()\n",
        "    print(f\"{self.player.name} roll: {Player_roll}\")\n",
        "    print(f\"{self.Computer.name} roll: {Computer_roll}\")\n",
        "\n",
        "  def display_score(self):\n",
        "    print(f\"{self.player.name}  score: {self.player.get_score()}\")\n",
        "    print(f\"{self.Computer.name} score: {self.Computer.get_score()}\")\n",
        "\n",
        "  def determine_winner(self):\n",
        "    if self.player.get_score() > self.Computer.get_score():\n",
        "      win= (f\"{self.player.name} is winner!\")\n",
        "      return win\n",
        "    elif self.player.get_score() < self.Computer.get_score():\n",
        "      win= (f\"{self.Computer.name} is winner!\")\n",
        "      return win\n",
        "\n",
        "    else:\n",
        "      return (f\"ok, no winner \")\n",
        "\n",
        "\n",
        "# play the Game:\n",
        "for i in range(5):\n",
        "  game = Game(\"Attia\")\n",
        "  game.play_round()\n",
        "  game.display_score()\n",
        "  print()\n",
        "\n",
        "winner = game.determine_winner()\n",
        "print(winner)"
      ],
      "metadata": {
        "id": "d8d68PXMa9ht",
        "colab": {
          "base_uri": "https://localhost:8080/",
          "height": 0
        },
        "outputId": "f4ce83f0-0bfd-4ffe-a9f5-10a9534f24d8"
      },
      "execution_count": 37,
      "outputs": [
        {
          "output_type": "stream",
          "name": "stdout",
          "text": [
            "Attia roll: 5\n",
            "Computer roll: 6\n",
            "Attia  score: 5\n",
            "Computer score: 6\n",
            "\n",
            "Attia roll: 3\n",
            "Computer roll: 2\n",
            "Attia  score: 3\n",
            "Computer score: 2\n",
            "\n",
            "Attia roll: 3\n",
            "Computer roll: 3\n",
            "Attia  score: 3\n",
            "Computer score: 3\n",
            "\n",
            "Attia roll: 5\n",
            "Computer roll: 4\n",
            "Attia  score: 5\n",
            "Computer score: 4\n",
            "\n",
            "Attia roll: 3\n",
            "Computer roll: 1\n",
            "Attia  score: 3\n",
            "Computer score: 1\n",
            "\n",
            "Attia is winner!\n"
          ]
        }
      ]
    }
  ]
}