{
  "cells": [
    {
      "cell_type": "markdown",
      "metadata": {
        "colab_type": "text",
        "id": "view-in-github"
      },
      "source": [
        "<a href=\"https://colab.research.google.com/github/abattiasia/KI-Kurs-Mystro/blob/main/Exercise_28062024.ipynb\" target=\"_parent\"><img src=\"https://colab.research.google.com/assets/colab-badge.svg\" alt=\"Open In Colab\"/></a>"
      ]
    },
    {
      "cell_type": "markdown",
      "metadata": {
        "id": "b1NGjaIsICu1"
      },
      "source": [
        "# Exercise at 28.06.2024 from Eng. Ola\n",
        "\n",
        "-Exercise: Simple Dice Game\n",
        "\n",
        "Objective:\n",
        "\n",
        "Create a simple dice game using Python. This exercise will help students understand classes, inheritance, and functions."
      ]
    },
    {
      "cell_type": "markdown",
      "metadata": {
        "id": "3BrUwVWpOx0J"
      },
      "source": [
        "#Exercise: Simple Dice Game\n",
        "\n"
      ]
    },
    {
      "cell_type": "code",
      "execution_count": 2,
      "metadata": {
        "id": "ONUd4IDnZGtq"
      },
      "outputs": [],
      "source": [
        "\"\"\"\n",
        "01 --> Create a Base Class Player:\n",
        "  ○ Attributes:\n",
        "    class  --> ■ name: Name of the player (string)\n",
        "               ■ score: Player's score (integer, default is 0)\n",
        "  ○ Methods:\n",
        "    def  ■ __init__(self, name): Constructor to initialize the name and score.\n",
        "    def  ■ roll_dice(self): Method to simulate rolling a dice (random number between 1 and 6) and update the score.\n",
        "    def  ■ get_score(self): Method to return the player's current score.\n",
        "\n",
        "\"\"\"\n",
        "import random\n",
        "\n",
        "class Player:\n",
        "    def __init__(self, name) -> None:\n",
        "        self.name = name\n",
        "        self.score = 0\n",
        "\n",
        "    def roll_dice(self):\n",
        "        roll = random.randint(1,6)\n",
        "        self.score += roll\n",
        "        return roll\n",
        "\n",
        "    def get_score(self):\n",
        "        #print(f\"My Score : {self.score}\")\n",
        "        return self.score\n"
      ]
    },
    {
      "cell_type": "code",
      "execution_count": 34,
      "metadata": {
        "colab": {
          "base_uri": "https://localhost:8080/",
          "height": 0
        },
        "id": "d8d68PXMa9ht",
        "outputId": "f4ce83f0-0bfd-4ffe-a9f5-10a9534f24d8"
      },
      "outputs": [
        {
          "name": "stdout",
          "output_type": "stream",
          "text": [
            "we are schon played  =  14  round\n",
            "abdou  score  : 48\n",
            "computer  score  : 59\n",
            "None\n",
            "winner is computer\n"
          ]
        }
      ],
      "source": [
        "\"\"\"\n",
        "02 class  --> Create a Subclass ComputerPlayer that Inherits from Player:\n",
        "    def __init__()  and  super().\n",
        "    ○ No additional attributes or methods needed for simplicity.\n",
        "\"\"\"\n",
        "# 02 Create a Subclass ComputerPlayer that Inherits from Player:\n",
        "class ComputerPlayer(Player):  # subclass due to Player Inherits\n",
        "    def __init__(self, name = \"computer\" ):  #  hat kein Einfluss, muss man den Namen beim Spielen geben\n",
        "        super().__init__(name) # was macht genau dieses Satz\n",
        "\n",
        "\"\"\"\n",
        "03 Create a Game Class:\n",
        "    class with  ○ Attributes:\n",
        "          ■ player: An instance of the Player class.\n",
        "          ■ computer: An instance of the ComputerPlayer class.\n",
        "    ○ Methods:\n",
        "        def --> ■  __init__(self, player_name): Constructor to initialize the player nd computer player.\n",
        "        def --> ■ play_round(self): Method to play a round where both the player and computer roll the dice.\n",
        "        def --> ■ display_scores(self): Method to display the current scores of both players.\n",
        "        def --> ■ determine_winner(self): Method to determine the winner based on the scores\n",
        "\"\"\"\n",
        "#03 Create a Game Class:\n",
        "class Game:\n",
        "    def __init__(self, player_name) -> None:\n",
        "        self.player = Player(player_name)\n",
        "        #self.plyer2 = Player(player_name)  # muss ich medinsten 2 Players definieren\n",
        "        self.computer = ComputerPlayer()   # cann ich auch der Computer anderes definieren\n",
        "        \n",
        "\n",
        "    def play_round(self):\n",
        "        player_roll = self.player.roll_dice()\n",
        "        computer_roll = self.computer.roll_dice()\n",
        "        #print(f\"{self.player.name} :  {player_roll}\")\n",
        "        #print(f\"{self.computer.name} :  {computer_roll}\")\n",
        "\n",
        "\n",
        "    def display_score(self):\n",
        "        print(f\"{self.player.name}  score  : {self.player.get_score()}\")\n",
        "        print(f\"{self.computer.name}  score  : {self.computer.get_score()}\")\n",
        "        return\n",
        "    \n",
        "    def determine_winner(self):\n",
        "        if self.player.get_score() == self.computer.get_score(): return print(f\"No winner\")\n",
        "        if self.player.get_score() > self.computer.get_score():\n",
        "            #winner = self.player.get_score()\n",
        "            return (f\"winner is {self.player.name}\")\n",
        "        return (f\"winner is {self.computer.name}\")\n",
        "\n",
        "\n",
        "def main():\n",
        "    #  play the Game:\n",
        "    p1=Game(\"abdou\")\n",
        "    for i in range(15):\n",
        "        p1.play_round()\n",
        "    print(f\"we are schon played  =  {i}  round\" )\n",
        "    print(f\"{p1.display_score()}\")\n",
        "    print(f\"{p1.determine_winner()}\")\n",
        "    \n",
        "if __name__ == \"__main__\":\n",
        "    main()"
      ]
    }
  ],
  "metadata": {
    "colab": {
      "authorship_tag": "ABX9TyPqAQDi6CpYFmFuN4YFMmeE",
      "include_colab_link": true,
      "provenance": []
    },
    "kernelspec": {
      "display_name": "Python 3",
      "name": "python3"
    },
    "language_info": {
      "codemirror_mode": {
        "name": "ipython",
        "version": 3
      },
      "file_extension": ".py",
      "mimetype": "text/x-python",
      "name": "python",
      "nbconvert_exporter": "python",
      "pygments_lexer": "ipython3",
      "version": "3.12.4"
    }
  },
  "nbformat": 4,
  "nbformat_minor": 0
}
