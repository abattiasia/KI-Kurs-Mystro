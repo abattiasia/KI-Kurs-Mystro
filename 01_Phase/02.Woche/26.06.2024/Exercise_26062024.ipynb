{
  "nbformat": 4,
  "nbformat_minor": 0,
  "metadata": {
    "colab": {
      "provenance": []
    },
    "kernelspec": {
      "name": "python3",
      "display_name": "Python 3"
    },
    "language_info": {
      "name": "python"
    }
  },
  "cells": [
    {
      "cell_type": "markdown",
      "source": [
        "# Exercise at 26.06.2024 from Eng. Ola\n",
        "- Class and 'Objects\n",
        "- constactor in class:    def__init__(self):    # es gibt auch destructor\n",
        "- Define function in class:    def mysum(self, x, y):\n",
        "\n"
      ],
      "metadata": {
        "id": "b1NGjaIsICu1"
      }
    },
    {
      "cell_type": "markdown",
      "source": [
        "#Ex. 01\n",
        "1. Define the Class:\n",
        "○ Create a class named Car.\n",
        "○ The class should have the following attributes: make, model, year, and\n",
        "odometer_reading.\n",
        "2. Constructor Method:\n",
        "○ Define an __init__ method to initialize these attributes. The\n",
        "odometer_reading should be initialized to 0.\n",
        "3. Methods:\n",
        "○ Define a method named get_description that returns a neatly formatted\n",
        "descriptive name for the car.\n",
        "○ Define a method named read_odometer that prints a statement showing the\n",
        "car's mileage.\n",
        "○ Define a method named update_odometer that sets the odometer reading to a\n",
        "given value. This method should reject any attempt to roll back the odometer.\n",
        "○ Define a method named increment_odometer that increments the odometer\n",
        "reading by a given amount.\n"
      ],
      "metadata": {
        "id": "3BrUwVWpOx0J"
      }
    },
    {
      "cell_type": "code",
      "source": [
        "class Car:                                  # Create a class Car\n",
        "  def __init__(self, make, model, year):    # define the function __init__\n",
        "    self.make = make\n",
        "    self.model = model\n",
        "    self.year = year\n",
        "    self.odometer_reading = 0\n",
        "\n",
        "  def get_description (self):                  # function get_description\n",
        "    #print(f\" {self.make}  {self.model}  {self.year}\")\n",
        "    return  (f\"My car is  {self.make}  {self.model}  {self.year}\")\n",
        "\n",
        "  def read_odometer(self):                    # function read_odometer\n",
        "    #print(f\"my car has {self.odometer_reading} km.\")\n",
        "    return (f\"My car has {self.odometer_reading} km.\")\n",
        "\n",
        "  def update_odometer(self,km):               # function update_odometer\n",
        "    if km >= self.odometer_reading:\n",
        "      self.odometer_reading = km\n",
        "    else:\n",
        "      print(\"km less than the old km\")\n",
        "\n",
        "  def increment_odometer(self,km):            # function increment_odometer\n",
        "    self.odometer_reading += km\n",
        "\n",
        "mycar = Car(\"Nissan\", \"Qashqai\", 2018)\n",
        "\n",
        "print(mycar.get_description())\n",
        "print(mycar.read_odometer())\n",
        "mycar.update_odometer(55000)\n",
        "print(mycar.read_odometer())\n",
        "mycar.increment_odometer(1000)\n",
        "print(mycar.read_odometer())\n"
      ],
      "metadata": {
        "colab": {
          "base_uri": "https://localhost:8080/"
        },
        "id": "rD_tH72bVHGX",
        "outputId": "8f8a5501-949a-44c2-bcab-959aa5bc55a2"
      },
      "execution_count": null,
      "outputs": [
        {
          "output_type": "stream",
          "name": "stdout",
          "text": [
            "My car is  Nissan  Qashqai  2018\n",
            "My car has 0 km.\n",
            "My car has 55000 km.\n",
            "My car has 56000 km.\n"
          ]
        }
      ]
    },
    {
      "cell_type": "markdown",
      "source": [],
      "metadata": {
        "id": "6u98w521bwen"
      }
    },
    {
      "cell_type": "markdown",
      "source": [
        "#Ex. 02\n",
        "1. Define the Class:\n",
        "○ Create a class named Dog.\n",
        "○ The class should have the following attributes: name and age.\n",
        "2. Constructor Method:\n",
        "○ Define an __init__ method to initialize these attributes.\n",
        "3. Methods:\n",
        "○ Define a method named sit that prints a message indicating the dog is sitting.\n",
        "○ Define a method named roll_over that prints a message indicating the dog is\n",
        "rolling over."
      ],
      "metadata": {
        "id": "Sqwom46DcCHW"
      }
    },
    {
      "cell_type": "code",
      "source": [
        "class Dog:                     #Create a class Dog\n",
        "  def __init__(self,name,age):  # class with name and age\n",
        "    self.name = name\n",
        "    self.age = age\n",
        "\n",
        "  def sit(self):          # function sit\n",
        "    print(f\"{self.name} is sitting\")\n",
        "\n",
        "  def roll_over(self):    # function roll over\n",
        "    print(f\"{self.name} is rolling over \")\n",
        "\n",
        "mydog = Dog(\"Rambo\", 10)    # call class Dog in omject mydog\n",
        "\n",
        "mydog.sit()               # call the sit function\n",
        "mydog.roll_over()         # call the roll over function\n",
        "\n"
      ],
      "metadata": {
        "colab": {
          "base_uri": "https://localhost:8080/"
        },
        "id": "kBF3sRbScJR8",
        "outputId": "3770abb7-36be-487d-feb6-ce0fe395e2df"
      },
      "execution_count": null,
      "outputs": [
        {
          "output_type": "stream",
          "name": "stdout",
          "text": [
            "Rambo is sitting\n",
            "Rambo is rolling over \n"
          ]
        }
      ]
    },
    {
      "cell_type": "markdown",
      "source": [
        "#Ex. 03\n",
        "Task3: Create a Student Class\n",
        "1. Define the Class:\n",
        "○ Create a class named Student.\n",
        "○ The class should have the following attributes: name and courses.\n",
        "2. Constructor Method:\n",
        "○ Define an __init__ method to initialize the name attribute and initialize\n",
        "courses as an empty list.\n",
        "3. Methods:\n",
        "○ Define a method named enroll that takes a course name as a parameter and\n",
        "appends it to the courses list.\n",
        "○ Define a method named get_courses that prints the list of courses the student\n",
        "is enrolled in."
      ],
      "metadata": {
        "id": "ct42CYFff7Qf"
      }
    },
    {
      "cell_type": "code",
      "source": [
        "class Student():\n",
        "  def __init__(self,name):\n",
        "    self.name = name\n",
        "    self.courses = []\n",
        "    print(f\"Student  {self.name}  is created\")\n",
        "\n",
        "  def enroll(self,course_name):\n",
        "    self.courses.append(course_name)\n",
        "\n",
        "  def get_courses(self):\n",
        "    print(f\"{self.name} has this courses  {self.courses}\")\n",
        "\n",
        "st1 = Student(\"Attia\")\n",
        "st1.enroll(\"Matha\")\n",
        "st1.enroll(\"English\")\n",
        "st1.enroll(\"KI-Kurs\")\n",
        "\n",
        "st1.get_courses()"
      ],
      "metadata": {
        "id": "117By22hf8wm",
        "colab": {
          "base_uri": "https://localhost:8080/"
        },
        "outputId": "b82e215a-5c94-4900-f473-aee7272096d9"
      },
      "execution_count": 42,
      "outputs": [
        {
          "output_type": "stream",
          "name": "stdout",
          "text": [
            "Student  Attia  is created\n",
            "Attia has this courses  ['Matha', 'English', 'KI-Kurs']\n"
          ]
        }
      ]
    },
    {
      "cell_type": "code",
      "source": [],
      "metadata": {
        "id": "x7_NI954gDNo"
      },
      "execution_count": null,
      "outputs": []
    },
    {
      "cell_type": "markdown",
      "source": [],
      "metadata": {
        "id": "u8YTd42LgGUG"
      }
    }
  ]
}