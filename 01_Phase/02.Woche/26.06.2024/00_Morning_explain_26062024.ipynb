{
 "cells": [
  {
   "cell_type": "markdown",
   "metadata": {},
   "source": []
  },
  {
   "cell_type": "markdown",
   "metadata": {},
   "source": [
    "# 00_Morning_Explain_26062024\n",
    "Subjects\n",
    "- 00 Review \n",
    "- 01  python string functions\n",
    " https://\n",
    "- 02 list,  l=[10,20,30,40]  #ä list can man values ändern\n",
    "l[-1] is the last\n",
    "- 03 tuple\n",
    "- 04 dic\n",
    "- 05  OOP   #  hey"
   ]
  },
  {
   "cell_type": "code",
   "execution_count": 7,
   "metadata": {},
   "outputs": [
    {
     "name": "stdout",
     "output_type": "stream",
     "text": [
      "[10, 20, 66, 55] [55, 66, 20, 10]\n",
      "nohtyp\n"
     ]
    }
   ],
   "source": [
    "# function on list\n",
    "\n",
    "l=[10,20,30,40]\n",
    "l[-1]\n",
    "l[-2]= 66\n",
    "l[-1]= 55\n",
    "x=l[::-1]\n",
    "print (l,x)\n",
    "s=\"python\"\n",
    "ss=s[::-1]\n",
    "print(ss)"
   ]
  },
  {
   "cell_type": "markdown",
   "metadata": {},
   "source": [
    "# functions on list\n",
    "l=[10,20,30,40]\n",
    "l=[]\n",
    "l.appene\n",
    "l.insert\n",
    "l.remove(30)\n",
    "l.reserve()\n",
    "l.sort()\n",
    "l.sort(reverse=true)\n",
    "l.pop\n",
    "l\n",
    "\n",
    "tuple vs list and dic\n",
    "l= []   # hat 1 werte for each position --> [value, ...]\n",
    "t= ()   # hat 1 werte for each position --> (value, ...)\n",
    "d= {}   # hat 2 werte for each position --> { keys:value, ...}\n"
   ]
  },
  {
   "cell_type": "code",
   "execution_count": 14,
   "metadata": {},
   "outputs": [
    {
     "data": {
      "text/plain": [
       "[200, 40, 20, 19, 10]"
      ]
     },
     "execution_count": 14,
     "metadata": {},
     "output_type": "execute_result"
    }
   ],
   "source": [
    "# functions  on list\n",
    "l=[10,20,30,40]\n",
    "l.append(200)\n",
    "l.insert(0,19)\n",
    "l.remove(30)\n",
    "l.reverse()\n",
    "l.sort()\n",
    "l.sort(reverse=True)\n",
    "l.pop\n",
    "l"
   ]
  },
  {
   "cell_type": "code",
   "execution_count": 26,
   "metadata": {},
   "outputs": [
    {
     "name": "stdout",
     "output_type": "stream",
     "text": [
      "ahmed\n",
      "ali\n",
      "40\n",
      "50\n",
      "ahmed\n",
      "ali\n",
      "('ahmed', 40)\n",
      "('ali', 50)\n",
      "ahmed 40\n",
      "ali 50\n"
     ]
    },
    {
     "data": {
      "text/plain": [
       "{'ahmed': 40, 'mahmoud': 60}"
      ]
     },
     "execution_count": 26,
     "metadata": {},
     "output_type": "execute_result"
    }
   ],
   "source": [
    "# functions on dic\n",
    "d= {\"ahmed\":40, \"ali\":50}\n",
    "d.keys()\n",
    "for x in d:\n",
    "    print(x)\n",
    "\n",
    "for x in d.values():\n",
    "    print(x)\n",
    "\n",
    "for x in d.keys():\n",
    "    print(x)\n",
    "\n",
    "for x in d.items():\n",
    "    print(x)\n",
    "\n",
    "for x,y in d.items():     # wichtig daten als var\n",
    "    print(x,y)\n",
    "\n",
    "d.items()\n",
    "\n",
    "d['mahmoud']=60\n",
    "d\n",
    "del d[\"ali\"]\n",
    "\n",
    "#d.clear()\n",
    "\n",
    "a=d  # rename dic d to a\n",
    "a\n",
    "\n",
    "#del d  #to remove dic  d"
   ]
  },
  {
   "cell_type": "markdown",
   "metadata": {},
   "source": [
    "# OOP\n",
    "-\n",
    "-\n",
    "-"
   ]
  },
  {
   "cell_type": "code",
   "execution_count": 40,
   "metadata": {},
   "outputs": [
    {
     "name": "stdout",
     "output_type": "stream",
     "text": [
      "welcom\n",
      "11\n",
      "<__main__.calculator object at 0x000002CF5A416BD0>\n",
      "30\n",
      "<__main__.calculator object at 0x000002CF5A416BD0>\n"
     ]
    }
   ],
   "source": [
    "# class defination and Object  ... jede class kann so viele mal als objekt abgerufen\n",
    "class calculator():\n",
    "\n",
    "    def mysum(self,x,y):   # q soll selfr in python\n",
    "        result = x+y\n",
    "        return result\n",
    "    \n",
    "    def mypro(self,x,y):   # q soll selfr in python\n",
    "        result = x*y\n",
    "        return result\n",
    "    #\n",
    "    #constructor = function + auto call (object)\n",
    "    def __init__(self) -> None:\n",
    "        print(\"welcom\")\n",
    "        #pass\n",
    "    \n",
    "\n",
    "j= calculator()  # class wird in j objekt abgerufen\n",
    "print (j.mysum(5,6))\n",
    "print(j)\n",
    "print (j.mypro(5,6))\n",
    "print(j)\n",
    "\n",
    "    "
   ]
  }
 ],
 "metadata": {
  "kernelspec": {
   "display_name": "Python 3",
   "language": "python",
   "name": "python3"
  },
  "language_info": {
   "codemirror_mode": {
    "name": "ipython",
    "version": 3
   },
   "file_extension": ".py",
   "mimetype": "text/x-python",
   "name": "python",
   "nbconvert_exporter": "python",
   "pygments_lexer": "ipython3",
   "version": "3.12.4"
  }
 },
 "nbformat": 4,
 "nbformat_minor": 2
}
