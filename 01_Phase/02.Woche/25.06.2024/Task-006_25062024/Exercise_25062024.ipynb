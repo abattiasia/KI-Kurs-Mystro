{
  "cells": [
    {
      "cell_type": "markdown",
      "metadata": {
        "colab_type": "text",
        "id": "view-in-github"
      },
      "source": [
        "<a href=\"https://colab.research.google.com/github/abattiasia/KI-Kurs-Mystro/blob/main/Exercise_25062024.ipynb\" target=\"_parent\"><img src=\"https://colab.research.google.com/assets/colab-badge.svg\" alt=\"Open In Colab\"/></a>"
      ]
    },
    {
      "cell_type": "markdown",
      "metadata": {
        "id": "pWWxqmec85vk"
      },
      "source": []
    },
    {
      "cell_type": "markdown",
      "metadata": {
        "id": "Y785egTR87k6"
      },
      "source": [
        "# Exercise from Eng. Ola  25.06.2024"
      ]
    },
    {
      "cell_type": "markdown",
      "metadata": {
        "id": "0QljDBID9C6A"
      },
      "source": [
        "Exercise 1: For Loop\n",
        " Problem: Write a program that prints the numbers from 1 to 10 using a for loop."
      ]
    },
    {
      "cell_type": "code",
      "execution_count": null,
      "metadata": {
        "id": "k0bIilSs9BVp"
      },
      "outputs": [],
      "source": [
        "#Ex 01\n",
        "for x in range(1,11):\n",
        "    print(x)"
      ]
    },
    {
      "cell_type": "markdown",
      "metadata": {
        "id": "EwXC04eQH8VL"
      },
      "source": [
        " Exercise 2: While Loop\n",
        " Problem: Write a program that asks the user to enter a positive number. Keep asking the user\n",
        " for a number until they enter a positive one. Once they enter a positive number, print it."
      ]
    },
    {
      "cell_type": "code",
      "execution_count": 49,
      "metadata": {
        "colab": {
          "base_uri": "https://localhost:8080/"
        },
        "id": "y_MRqp3RH-pj",
        "outputId": "28d01865-97ed-41e6-cd9e-06ec5fb81492"
      },
      "outputs": [
        {
          "name": "stdout",
          "output_type": "stream",
          "text": [
            "Enter a positive number: -7\n",
            "Enter a positive number: -5\n",
            "Enter a positive number: 6\n",
            "6\n"
          ]
        }
      ],
      "source": [
        "#Ex 02\n",
        "while True :\n",
        "  x=int(input(\"Enter a positive number: \"))\n",
        "  if x>0 :\n",
        "    print(x)\n",
        "    break\n",
        "  else:\n",
        "    continue"
      ]
    },
    {
      "cell_type": "markdown",
      "metadata": {
        "id": "f4eK19ADICpp"
      },
      "source": [
        "Exercise 3: Nested Loops\n",
        " Problem: Write a program that prints a multiplication table for numbers 1 to 5. Use nested loops\n",
        " to generate the table."
      ]
    },
    {
      "cell_type": "code",
      "execution_count": 54,
      "metadata": {
        "colab": {
          "base_uri": "https://localhost:8080/"
        },
        "id": "tFz8MjHTID2p",
        "outputId": "08ef9b65-dc60-477d-c760-e4c4f8aafc11"
      },
      "outputs": [
        {
          "name": "stdout",
          "output_type": "stream",
          "text": [
            "1 2 3 4 5 \n",
            "2 4 6 8 10 \n",
            "3 6 9 12 15 \n",
            "4 8 12 16 20 \n",
            "5 10 15 20 25 \n"
          ]
        }
      ],
      "source": [
        "#Ex 03\n",
        "for x in range(1, 6):\n",
        "    for y in range(1, 6):\n",
        "        print(x * y, end=\" \")\n",
        "        #print(f\"{x} x {y} = {x * y}\")\n",
        "\n",
        "    print()\n"
      ]
    },
    {
      "cell_type": "markdown",
      "metadata": {
        "id": "xjX8DlzkIIGS"
      },
      "source": [
        "Exercise 4: Simple Function\n",
        " Problem: Write a function greet that takes a name as input and prints a greeting message,\n",
        " e.g., \"Hello, [name]!\"."
      ]
    },
    {
      "cell_type": "code",
      "execution_count": 19,
      "metadata": {
        "colab": {
          "base_uri": "https://localhost:8080/"
        },
        "id": "Rvh-cBkqIJFO",
        "outputId": "a73cd3aa-f43b-4e89-de69-6dda9f687f8c"
      },
      "outputs": [
        {
          "name": "stdout",
          "output_type": "stream",
          "text": [
            "Hello, Eng. Ola!\n"
          ]
        }
      ],
      "source": [
        "#Ex 04\n",
        "\n",
        "def greet(name):\n",
        "\n",
        "  print(\"Hello, {}!\".format(name))\n",
        "\n",
        "greet(\"Eng. Ola\")\n"
      ]
    },
    {
      "cell_type": "markdown",
      "metadata": {
        "id": "NORPwfMAINQ2"
      },
      "source": [
        " Exercise 5: Function with Loop\n",
        " Problem: Write a function countdown that takes a number as input and prints a countdown\n",
        " from that number to zero using a loop"
      ]
    },
    {
      "cell_type": "code",
      "execution_count": null,
      "metadata": {
        "id": "h_OJ-Tl9IOJ-"
      },
      "outputs": [],
      "source": [
        "#Ex 05\n",
        "\n",
        "def countdown(n):\n",
        "  for i in range(n, -1, -1):\n",
        "    print(i)\n",
        "\n",
        "countdown(7)\n"
      ]
    },
    {
      "cell_type": "markdown",
      "metadata": {
        "id": "WXAuRvlwIR1u"
      },
      "source": [
        "Exercise 6: Function with Loop and Data Types (Lists)\n",
        " Problem: Write a function print_list that takes a list of strings as input and prints each\n",
        " string on a new line using a loop. Then, demonstrate the function with a list of your choice."
      ]
    },
    {
      "cell_type": "code",
      "execution_count": 26,
      "metadata": {
        "colab": {
          "base_uri": "https://localhost:8080/"
        },
        "id": "wbrhNRcfIS3O",
        "outputId": "d6b0b337-e444-4765-ba9e-d1663a54cef7"
      },
      "outputs": [
        {
          "name": "stdout",
          "output_type": "stream",
          "text": [
            "python\n",
            "is\n",
            "a\n",
            "part\n",
            "of\n",
            "KI-Kurs\n"
          ]
        }
      ],
      "source": [
        "#Ex 06\n",
        "def print_list(kurs):\n",
        "  for x in kurs:\n",
        "    print(x)\n",
        "\n",
        "my_list = [\"python\", \"is\", \"a\", \"part\", \"of\", \"KI-Kurs\"]\n",
        "print_list(my_list)\n"
      ]
    },
    {
      "cell_type": "markdown",
      "metadata": {
        "id": "kKnidts0IXBe"
      },
      "source": [
        "Exercise 7: Using break and continue\n",
        " Problem: Write a program that asks the user to enter numbers. If the user enters a negative\n",
        " number, the program should stop asking for input (using break). If the user enters a number\n",
        " greater than 100, the program should ignore it (using continue). Print each valid number\n",
        " entered by the user"
      ]
    },
    {
      "cell_type": "code",
      "execution_count": 41,
      "metadata": {
        "colab": {
          "base_uri": "https://localhost:8080/"
        },
        "id": "krao8tpSIYQx",
        "outputId": "e618409d-95be-46cd-e59c-3c2933514303"
      },
      "outputs": [
        {
          "name": "stdout",
          "output_type": "stream",
          "text": [
            "Enter a number: 7\n",
            "7\n",
            "Enter a number: -5\n"
          ]
        }
      ],
      "source": [
        "# Ex 07\n",
        "while True:\n",
        "  user_input = int(input(\"Enter a number: \"))  # input user data\n",
        "\n",
        "  if user_input < 0:       # Check if the input is negative\n",
        "    break\n",
        "\n",
        "  elif user_input > 100:    # Check if the input is greater than 100\n",
        "    continue\n",
        "\n",
        "  else:\n",
        "    print(user_input)    #  input is valid, print it\n"
      ]
    },
    {
      "cell_type": "markdown",
      "metadata": {
        "id": "eVR2ZNMhIbfo"
      },
      "source": [
        "Exercise 8: Strings as Lists\n",
        " Problem: Write a function reverse_string that takes a string as input and returns the string\n",
        " reversed by treating it as a list of characters. Do not use any built-in string reversing methods"
      ]
    },
    {
      "cell_type": "code",
      "execution_count": 1,
      "metadata": {
        "colab": {
          "base_uri": "https://localhost:8080/",
          "height": 36
        },
        "id": "wh6Chw_OUiMU",
        "outputId": "d563db29-ca10-45e8-d5f5-2ca71a2da3c7"
      },
      "outputs": [
        {
          "name": "stdout",
          "output_type": "stream",
          "text": [
            "nohtyp ni margorp a etirw ot evah i  \n"
          ]
        }
      ],
      "source": [
        "def reverse_string(string):\n",
        "\n",
        "  reversed_s= \" \"\n",
        "\n",
        "  for char in string:\n",
        "    reversed_s = char + reversed_s\n",
        "  return reversed_s\n",
        "\n",
        "def main():\n",
        "    rr= reverse_string (\" i have to write a program in python\")\n",
        "    print (rr)\n",
        "\n",
        "if __name__ == \"__main__\":\n",
        "    main()"
      ]
    }
  ],
  "metadata": {
    "colab": {
      "authorship_tag": "ABX9TyPh4M/YwlOPyvnPUp0ptJjq",
      "include_colab_link": true,
      "provenance": []
    },
    "kernelspec": {
      "display_name": "Python 3",
      "name": "python3"
    },
    "language_info": {
      "codemirror_mode": {
        "name": "ipython",
        "version": 3
      },
      "file_extension": ".py",
      "mimetype": "text/x-python",
      "name": "python",
      "nbconvert_exporter": "python",
      "pygments_lexer": "ipython3",
      "version": "3.12.4"
    }
  },
  "nbformat": 4,
  "nbformat_minor": 0
}
