{
  "cells": [
    {
      "cell_type": "markdown",
      "metadata": {
        "id": "OweXu58rGXiQ"
      },
      "source": [
        "## Coding Exercise #0106"
      ]
    },
    {
      "cell_type": "markdown",
      "metadata": {
        "id": "mg0eADhZGXiT"
      },
      "source": [
        "### 1. Functions:"
      ]
    },
    {
      "cell_type": "code",
      "source": [],
      "metadata": {
        "id": "Qh_8cBSm8Wu_"
      },
      "execution_count": null,
      "outputs": []
    },
    {
      "cell_type": "markdown",
      "metadata": {
        "id": "R8NlSDC0GXiU"
      },
      "source": [
        "#### 1.1. User defined functions (UDFs):"
      ]
    },
    {
      "cell_type": "markdown",
      "metadata": {
        "id": "zsqrLSLqGXiU"
      },
      "source": [
        "A function with input arguments and a returned value:"
      ]
    },
    {
      "cell_type": "code",
      "execution_count": null,
      "metadata": {
        "id": "tKs2ChYwGXiU",
        "colab": {
          "base_uri": "https://localhost:8080/"
        },
        "outputId": "4f413d7a-a208-4b21-e99b-1853710e989c"
      },
      "outputs": [
        {
          "output_type": "execute_result",
          "data": {
            "text/plain": [
              "12"
            ]
          },
          "metadata": {},
          "execution_count": 1
        }
      ],
      "source": [
        "def prod(a,b):\n",
        "    x = a*b\n",
        "    return x\n",
        "prod(3,4)"
      ]
    },
    {
      "cell_type": "markdown",
      "metadata": {
        "id": "Mw37QIrLGXiW"
      },
      "source": [
        "A function without input argument:"
      ]
    },
    {
      "cell_type": "code",
      "execution_count": null,
      "metadata": {
        "id": "WAqeOSiJGXiW",
        "colab": {
          "base_uri": "https://localhost:8080/"
        },
        "outputId": "5a682dfe-fc18-4216-e402-d9ad8088fe59"
      },
      "outputs": [
        {
          "output_type": "stream",
          "name": "stdout",
          "text": [
            "Hello World!\n"
          ]
        }
      ],
      "source": [
        "def output():\n",
        "    return  'Hello World!'\n",
        "print(output())"
      ]
    },
    {
      "cell_type": "markdown",
      "metadata": {
        "id": "2Ftt3BIxGXiX"
      },
      "source": [
        "A function without returned value:"
      ]
    },
    {
      "cell_type": "code",
      "execution_count": 1,
      "metadata": {
        "id": "t7cdgbHlGXiX",
        "colab": {
          "base_uri": "https://localhost:8080/"
        },
        "outputId": "304b6dac-07a5-4455-fd03-561331dc3684"
      },
      "outputs": [
        {
          "output_type": "stream",
          "name": "stdout",
          "text": [
            "21\n"
          ]
        }
      ],
      "source": [
        "def times3(a):\n",
        "    print(3*a)\n",
        "    return\n",
        "times3(7)"
      ]
    },
    {
      "cell_type": "markdown",
      "metadata": {
        "id": "rZu04Jp3GXiX"
      },
      "source": [
        "A function without input argument nor returned value:"
      ]
    },
    {
      "cell_type": "code",
      "execution_count": 15,
      "metadata": {
        "id": "moUa3yCSGXiY",
        "colab": {
          "base_uri": "https://localhost:8080/"
        },
        "outputId": "2b3b0993-3413-4f79-f43b-85f2b79c88ee"
      },
      "outputs": [
        {
          "output_type": "execute_result",
          "data": {
            "text/plain": [
              "55"
            ]
          },
          "metadata": {},
          "execution_count": 15
        }
      ],
      "source": [
        " global sum_total\n",
        "\n",
        "def increase():\n",
        "\n",
        "    sum_total =0\n",
        "    for i in range(11):\n",
        "        sum_total += i  #sum_total = sum_total + i\n",
        "increase()\n",
        "sum_total"
      ]
    },
    {
      "cell_type": "markdown",
      "metadata": {
        "id": "bnDXJSkSGXiY"
      },
      "source": [
        "A function with undetermined number of input arguments:"
      ]
    },
    {
      "cell_type": "code",
      "execution_count": 20,
      "metadata": {
        "id": "TeN5-rVCGXiZ"
      },
      "outputs": [],
      "source": [
        "def sum_up(*vals):\n",
        "    total = 0\n",
        "    for x in vals:\n",
        "        total += x #1 , 3 , 6 #total = total + x\n",
        "    return total"
      ]
    },
    {
      "cell_type": "code",
      "execution_count": 21,
      "metadata": {
        "id": "YxaJvDN2GXiZ",
        "colab": {
          "base_uri": "https://localhost:8080/"
        },
        "outputId": "d56e8b2e-6e2e-4eea-cb7d-59a88ec6ae0a"
      },
      "outputs": [
        {
          "output_type": "execute_result",
          "data": {
            "text/plain": [
              "166"
            ]
          },
          "metadata": {},
          "execution_count": 21
        }
      ],
      "source": [
        "sum_up(1,2,3)"
      ]
    },
    {
      "cell_type": "code",
      "execution_count": 18,
      "metadata": {
        "id": "I21qlIwgGXiZ",
        "colab": {
          "base_uri": "https://localhost:8080/"
        },
        "outputId": "bbe4b30c-7b4f-4587-f96b-e736b63af2d0"
      },
      "outputs": [
        {
          "output_type": "execute_result",
          "data": {
            "text/plain": [
              "15"
            ]
          },
          "metadata": {},
          "execution_count": 18
        }
      ],
      "source": [
        "sum_up(1,2,3,4,5)"
      ]
    },
    {
      "cell_type": "markdown",
      "metadata": {
        "id": "KEitE_G-GXia"
      },
      "source": [
        "A function with multiple return values:"
      ]
    },
    {
      "cell_type": "code",
      "execution_count": null,
      "metadata": {
        "id": "_QBDAFROGXia"
      },
      "outputs": [],
      "source": [
        "def ArithmeticOprs(a,b):\n",
        "    return a + b, a-b, a * b, a/b"
      ]
    },
    {
      "cell_type": "code",
      "execution_count": null,
      "metadata": {
        "id": "KvhD1RUlGXia"
      },
      "outputs": [],
      "source": [
        "type(ArithmeticOprs(4,2))"
      ]
    },
    {
      "cell_type": "code",
      "execution_count": null,
      "metadata": {
        "id": "9Jz76MXBGXib"
      },
      "outputs": [],
      "source": [
        "ArithmeticOprs(4,2)"
      ]
    },
    {
      "cell_type": "markdown",
      "metadata": {
        "id": "xu7Q2KBWGXib"
      },
      "source": [
        "Default values for the input arguments:"
      ]
    },
    {
      "cell_type": "code",
      "execution_count": null,
      "metadata": {
        "id": "X-gjgK7dGXib"
      },
      "outputs": [],
      "source": [
        "def ArithmeticOprs(a=2,b=1):\n",
        "    return a + b, a - b, a * b, a/b"
      ]
    },
    {
      "cell_type": "code",
      "execution_count": null,
      "metadata": {
        "id": "nQJNDAInGXic"
      },
      "outputs": [],
      "source": [
        "ArithmeticOprs()"
      ]
    },
    {
      "cell_type": "code",
      "execution_count": null,
      "metadata": {
        "id": "Frjr07VhGXic"
      },
      "outputs": [],
      "source": [
        "ArithmeticOprs(3)"
      ]
    },
    {
      "cell_type": "code",
      "execution_count": null,
      "metadata": {
        "id": "pVS-q6wZGXin"
      },
      "outputs": [],
      "source": [
        "ArithmeticOprs(b=3)"
      ]
    },
    {
      "cell_type": "markdown",
      "metadata": {
        "id": "tVeudgqwGXio"
      },
      "source": [
        "A local variable's scope is limited to the function body where it is defined:"
      ]
    },
    {
      "cell_type": "code",
      "execution_count": null,
      "metadata": {
        "id": "Eo54h9fEGXio"
      },
      "outputs": [],
      "source": [
        "# 'result' inside of the function body and 'result' outside of it are different variables.\n",
        "result = 333\n",
        "def average(*a):\n",
        "    result = 0\n",
        "    for x in a:\n",
        "        result += x\n",
        "    result /= len(a)\n",
        "    return result"
      ]
    },
    {
      "cell_type": "code",
      "execution_count": null,
      "metadata": {
        "id": "4tfXlVSqGXip"
      },
      "outputs": [],
      "source": [
        "average(1,2,3,4,5)"
      ]
    },
    {
      "cell_type": "code",
      "execution_count": null,
      "metadata": {
        "id": "OKRxvFgzGXip"
      },
      "outputs": [],
      "source": [
        "# 'result' defined outside of the function kept its original value.\n",
        "result"
      ]
    },
    {
      "cell_type": "markdown",
      "metadata": {
        "id": "Wf5r3dc1GXip"
      },
      "source": [
        "As 'result' is defined as a global variable, it is the same as the one defined outside of the function body."
      ]
    },
    {
      "cell_type": "code",
      "source": [],
      "metadata": {
        "id": "o4lYpvOEEXSw"
      },
      "execution_count": null,
      "outputs": []
    },
    {
      "cell_type": "code",
      "execution_count": null,
      "metadata": {
        "id": "XsNDLWEUGXiq"
      },
      "outputs": [],
      "source": [
        "# Please, notice that there is no explicit return value.\n",
        "result = 0\n",
        "def average(*a):\n",
        "    global result\n",
        "    for x in a:\n",
        "        result += x\n",
        "    result /= len(a)\n",
        "    return"
      ]
    },
    {
      "cell_type": "code",
      "execution_count": null,
      "metadata": {
        "id": "SaY6VTOoGXiq"
      },
      "outputs": [],
      "source": [
        "average(1,2,3,4,5)"
      ]
    },
    {
      "cell_type": "code",
      "execution_count": null,
      "metadata": {
        "id": "Jty2WKZvGXir"
      },
      "outputs": [],
      "source": [
        "# Now, 'result' contains the value calculated byh the function.\n",
        "result"
      ]
    },
    {
      "cell_type": "markdown",
      "metadata": {
        "id": "LKEkPQ07GXir"
      },
      "source": [
        "#### 1.2. Lambda functions:"
      ]
    },
    {
      "cell_type": "code",
      "execution_count": null,
      "metadata": {
        "id": "O8OB6uJ5GXir"
      },
      "outputs": [],
      "source": [
        "# This function returns a lambda function.\n",
        "def makeMyFunc(a):\n",
        "    return lambda x: a*x"
      ]
    },
    {
      "cell_type": "code",
      "execution_count": null,
      "metadata": {
        "id": "urZweX1yGXis",
        "colab": {
          "base_uri": "https://localhost:8080/",
          "height": 183
        },
        "outputId": "ab9ca877-0ea1-4544-c882-648b2a5929b9"
      },
      "outputs": [
        {
          "output_type": "error",
          "ename": "NameError",
          "evalue": "ignored",
          "traceback": [
            "\u001b[0;31m---------------------------------------------------------------------------\u001b[0m",
            "\u001b[0;31mNameError\u001b[0m                                 Traceback (most recent call last)",
            "\u001b[0;32m<ipython-input-3-bba2d7036bd2>\u001b[0m in \u001b[0;36m<cell line: 2>\u001b[0;34m()\u001b[0m\n\u001b[1;32m      1\u001b[0m \u001b[0;31m# Assign lambda function to a variable, so that it can be used just like any other function.\u001b[0m\u001b[0;34m\u001b[0m\u001b[0;34m\u001b[0m\u001b[0m\n\u001b[0;32m----> 2\u001b[0;31m \u001b[0mmyFunc\u001b[0m \u001b[0;34m=\u001b[0m \u001b[0mmakeMyFunc\u001b[0m\u001b[0;34m(\u001b[0m\u001b[0;36m3\u001b[0m\u001b[0;34m)\u001b[0m\u001b[0;34m\u001b[0m\u001b[0;34m\u001b[0m\u001b[0m\n\u001b[0m",
            "\u001b[0;31mNameError\u001b[0m: name 'makeMyFunc' is not defined"
          ]
        }
      ],
      "source": [
        "# Assign lambda function to a variable, so that it can be used just like any other function.\n",
        "myFunc = makeMyFunc(3)"
      ]
    },
    {
      "cell_type": "code",
      "execution_count": null,
      "metadata": {
        "id": "9a0Si-nRGXit"
      },
      "outputs": [],
      "source": [
        "type(myFunc)"
      ]
    },
    {
      "cell_type": "code",
      "execution_count": null,
      "metadata": {
        "id": "ij9AkE7vGXit",
        "colab": {
          "base_uri": "https://localhost:8080/",
          "height": 165
        },
        "outputId": "176cffa7-340f-41ca-d740-dded600079ca"
      },
      "outputs": [
        {
          "output_type": "error",
          "ename": "NameError",
          "evalue": "ignored",
          "traceback": [
            "\u001b[0;31m---------------------------------------------------------------------------\u001b[0m",
            "\u001b[0;31mNameError\u001b[0m                                 Traceback (most recent call last)",
            "\u001b[0;32m<ipython-input-2-3f9b8a188244>\u001b[0m in \u001b[0;36m<cell line: 1>\u001b[0;34m()\u001b[0m\n\u001b[0;32m----> 1\u001b[0;31m \u001b[0mmyFunc\u001b[0m\u001b[0;34m(\u001b[0m\u001b[0;36m4\u001b[0m\u001b[0;34m)\u001b[0m\u001b[0;34m\u001b[0m\u001b[0;34m\u001b[0m\u001b[0m\n\u001b[0m",
            "\u001b[0;31mNameError\u001b[0m: name 'myFunc' is not defined"
          ]
        }
      ],
      "source": [
        "myFunc(4)"
      ]
    },
    {
      "cell_type": "markdown",
      "metadata": {
        "id": "XIpxRJy_GXit"
      },
      "source": [
        "Lambda function with map() and filter():"
      ]
    },
    {
      "cell_type": "code",
      "execution_count": null,
      "metadata": {
        "id": "9cVCv75FGXiu"
      },
      "outputs": [],
      "source": [
        "a = [1, 2, 3, 4, 5, 6, 7, 8, 9, 10]"
      ]
    },
    {
      "cell_type": "code",
      "execution_count": null,
      "metadata": {
        "id": "lB-p_uquGXiu"
      },
      "outputs": [],
      "source": [
        "# Map the lambda function to each element of the list.\n",
        "list(map(lambda x: x * 2, a))"
      ]
    },
    {
      "cell_type": "code",
      "execution_count": null,
      "metadata": {
        "id": "R4t9lNHaGXiu"
      },
      "outputs": [],
      "source": [
        "# Filter the list elements according to the condition given by the lambda function.\n",
        "list(filter(lambda x: x % 3 ==0, a))"
      ]
    },
    {
      "cell_type": "markdown",
      "metadata": {
        "id": "tJJlpAGCGXiv"
      },
      "source": [
        "#### 1.3. Custom modules:"
      ]
    },
    {
      "cell_type": "code",
      "execution_count": null,
      "metadata": {
        "id": "qzrba4htGXiv"
      },
      "outputs": [],
      "source": [
        "import myModule as md"
      ]
    },
    {
      "cell_type": "code",
      "execution_count": null,
      "metadata": {
        "id": "p7ZAXtWuGXiv"
      },
      "outputs": [],
      "source": [
        "md.sum(3,4)"
      ]
    },
    {
      "cell_type": "code",
      "source": [],
      "metadata": {
        "id": "A5rte2laY0jd"
      },
      "execution_count": null,
      "outputs": []
    },
    {
      "cell_type": "code",
      "execution_count": null,
      "metadata": {
        "id": "sj9hnh89GXiv"
      },
      "outputs": [],
      "source": [
        "md.product(4,5)"
      ]
    },
    {
      "cell_type": "code",
      "execution_count": 26,
      "metadata": {
        "id": "c2TzRb0yGXiw",
        "colab": {
          "base_uri": "https://localhost:8080/",
          "height": 36
        },
        "outputId": "6ad0616a-fcef-4026-f183-921214581357"
      },
      "outputs": [
        {
          "output_type": "execute_result",
          "data": {
            "text/plain": [
              "'a'"
            ],
            "application/vnd.google.colaboratory.intrinsic+json": {
              "type": "string"
            }
          },
          "metadata": {},
          "execution_count": 26
        }
      ],
      "source": [
        "name=\"Ola\"\n",
        "len(name)#string is a list of char ['O','l','a']\n",
        "name[2]"
      ]
    },
    {
      "cell_type": "code",
      "source": [
        "def reversed_string(s):\n",
        "  reversed_s=\" \"\n",
        "  for char in s:\n",
        "    reversed_s = char +reversed_s\n",
        "  return reversed_s\n",
        "\n",
        "reversed_string(\"Mohammed\")"
      ],
      "metadata": {
        "colab": {
          "base_uri": "https://localhost:8080/",
          "height": 36
        },
        "id": "YHMVzgfHWHau",
        "outputId": "fabe5be1-56fb-4b32-ee2b-dd66e2f5422f"
      },
      "execution_count": 28,
      "outputs": [
        {
          "output_type": "execute_result",
          "data": {
            "text/plain": [
              "'demmahoM '"
            ],
            "application/vnd.google.colaboratory.intrinsic+json": {
              "type": "string"
            }
          },
          "metadata": {},
          "execution_count": 28
        }
      ]
    },
    {
      "cell_type": "code",
      "source": [
        "def greeting(name):\n",
        "  print(f\"Hello,{name} \")\n",
        "Calling=input(\"Entter You name: \")\n",
        "greeting(Calling)\n",
        "\n"
      ],
      "metadata": {
        "id": "LVa9ItG1XuGo"
      },
      "execution_count": 30,
      "outputs": []
    },
    {
      "cell_type": "code",
      "source": [],
      "metadata": {
        "id": "_XFk-oooVqpg"
      },
      "execution_count": null,
      "outputs": []
    },
    {
      "cell_type": "code",
      "source": [],
      "metadata": {
        "id": "9G6lTNMQVm1Z"
      },
      "execution_count": null,
      "outputs": []
    }
  ],
  "metadata": {
    "kernelspec": {
      "display_name": "Python 3",
      "language": "python",
      "name": "python3"
    },
    "language_info": {
      "codemirror_mode": {
        "name": "ipython",
        "version": 3
      },
      "file_extension": ".py",
      "mimetype": "text/x-python",
      "name": "python",
      "nbconvert_exporter": "python",
      "pygments_lexer": "ipython3",
      "version": "3.7.3"
    },
    "colab": {
      "provenance": []
    }
  },
  "nbformat": 4,
  "nbformat_minor": 0
}