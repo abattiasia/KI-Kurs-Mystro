{
  "nbformat": 4,
  "nbformat_minor": 0,
  "metadata": {
    "colab": {
      "provenance": []
    },
    "kernelspec": {
      "name": "python3",
      "display_name": "Python 3"
    },
    "language_info": {
      "name": "python"
    }
  },
  "cells": [
    {
      "cell_type": "code",
      "execution_count": null,
      "metadata": {
        "id": "0JIKEZCVX0Up"
      },
      "outputs": [],
      "source": []
    },
    {
      "cell_type": "markdown",
      "source": [
        "## ***excersise***"
      ],
      "metadata": {
        "id": "Lz41j6gcYCA-"
      }
    },
    {
      "cell_type": "code",
      "source": [
        "a=5\n",
        "b=9\n",
        "c=a+b\n",
        "print(c)"
      ],
      "metadata": {
        "colab": {
          "base_uri": "https://localhost:8080/"
        },
        "id": "0Ock1VQLYLXU",
        "outputId": "2cafb5c7-15ba-42ab-b36f-b93d65eb5885"
      },
      "execution_count": null,
      "outputs": [
        {
          "output_type": "stream",
          "name": "stdout",
          "text": [
            "14\n"
          ]
        }
      ]
    },
    {
      "cell_type": "markdown",
      "source": [
        "ex2"
      ],
      "metadata": {
        "id": "_ngIkp5HYmlq"
      }
    },
    {
      "cell_type": "code",
      "source": [
        "name = \"Ola\"\n",
        "age = 24\n",
        "print (name, age)\n",
        "print ({name},{age})"
      ],
      "metadata": {
        "colab": {
          "base_uri": "https://localhost:8080/"
        },
        "id": "NmjVSTQnYlAn",
        "outputId": "26778d6d-5ab5-41da-be28-d4e9e7ae8106"
      },
      "execution_count": null,
      "outputs": [
        {
          "output_type": "stream",
          "name": "stdout",
          "text": [
            "Ola 24\n",
            "{'Ola'} {24}\n"
          ]
        }
      ]
    },
    {
      "cell_type": "code",
      "source": [],
      "metadata": {
        "id": "XuLi09WEiRDy"
      },
      "execution_count": null,
      "outputs": []
    },
    {
      "cell_type": "markdown",
      "source": [
        "ex1"
      ],
      "metadata": {
        "id": "lY3r0UiYiSk6"
      }
    },
    {
      "cell_type": "code",
      "source": [
        "name = \"Ola\"\n",
        "age = 24\n",
        "print (name, age)"
      ],
      "metadata": {
        "colab": {
          "base_uri": "https://localhost:8080/"
        },
        "id": "XmHCa_DHiULZ",
        "outputId": "1494bab0-323d-4129-e0b7-0016fbd9fb5d"
      },
      "execution_count": null,
      "outputs": [
        {
          "output_type": "stream",
          "name": "stdout",
          "text": [
            "Ola 24\n"
          ]
        }
      ]
    },
    {
      "cell_type": "markdown",
      "source": [
        "ex2"
      ],
      "metadata": {
        "id": "kTEChbv4ia1g"
      }
    },
    {
      "cell_type": "code",
      "source": [
        "is_sunny=1  #is_sunny=1\n",
        "is_raning=0\n",
        "print(is_sunny)\n",
        "print(is_raning)"
      ],
      "metadata": {
        "colab": {
          "base_uri": "https://localhost:8080/"
        },
        "id": "vING4-DqicoM",
        "outputId": "37c16c83-fb13-4737-9fcd-1bcf2867e045"
      },
      "execution_count": null,
      "outputs": [
        {
          "output_type": "stream",
          "name": "stdout",
          "text": [
            "1\n",
            "0\n"
          ]
        }
      ]
    },
    {
      "cell_type": "code",
      "source": [
        "counter=0\n",
        "print(counter)\n",
        "counter=counter+1\n",
        "print(counter)\n",
        "counter=counter+1\n",
        "print(counter)\n"
      ],
      "metadata": {
        "colab": {
          "base_uri": "https://localhost:8080/"
        },
        "id": "mJ4amO8aki_8",
        "outputId": "25aa06c0-fdd5-4357-a78a-1731164948ba"
      },
      "execution_count": null,
      "outputs": [
        {
          "output_type": "stream",
          "name": "stdout",
          "text": [
            "0\n",
            "1\n",
            "2\n"
          ]
        }
      ]
    },
    {
      "cell_type": "code",
      "source": [
        "x=5\n",
        "y=10\n",
        "temp=x\n",
        "x=y\n",
        "y=temp\n",
        "print(x)\n",
        "print(y)\n"
      ],
      "metadata": {
        "colab": {
          "base_uri": "https://localhost:8080/"
        },
        "id": "kZbK7RbylKMV",
        "outputId": "e956cf0f-9f6e-4457-eade-56d23f8b842f"
      },
      "execution_count": null,
      "outputs": [
        {
          "output_type": "stream",
          "name": "stdout",
          "text": [
            "10\n",
            "5\n"
          ]
        }
      ]
    },
    {
      "cell_type": "code",
      "source": [
        "firstname = \"OLa\"\n",
        "print(firstname)\n"
      ],
      "metadata": {
        "colab": {
          "base_uri": "https://localhost:8080/"
        },
        "id": "-HyL-zrOnQuh",
        "outputId": "e01d3683-633b-4056-dd39-ea3930d0e2ae"
      },
      "execution_count": null,
      "outputs": [
        {
          "output_type": "stream",
          "name": "stdout",
          "text": [
            "OLa\n"
          ]
        }
      ]
    },
    {
      "cell_type": "code",
      "source": [
        "pi=3.14\n",
        "radius=5\n",
        "circumference= 2 * pi * radius\n",
        "print(circumference)"
      ],
      "metadata": {
        "colab": {
          "base_uri": "https://localhost:8080/"
        },
        "id": "qELI0u3UzbFR",
        "outputId": "2fbf60d8-d5ab-4f02-da25-2d40e75997f2"
      },
      "execution_count": null,
      "outputs": [
        {
          "output_type": "stream",
          "name": "stdout",
          "text": [
            "31.400000000000002\n"
          ]
        }
      ]
    },
    {
      "cell_type": "code",
      "source": [
        "x=5\n",
        "if x != 6 :\n",
        "  print(\"True\")\n",
        "else:\n",
        "  print (\"False\")"
      ],
      "metadata": {
        "id": "qunc03gD0NGW",
        "colab": {
          "base_uri": "https://localhost:8080/"
        },
        "outputId": "b92224f7-11d6-4cf6-a8df-1dc2b5c94b13"
      },
      "execution_count": null,
      "outputs": [
        {
          "output_type": "stream",
          "name": "stdout",
          "text": [
            "True\n"
          ]
        }
      ]
    }
  ]
}