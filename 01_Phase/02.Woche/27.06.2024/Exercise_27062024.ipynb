{
  "cells": [
    {
      "cell_type": "markdown",
      "metadata": {
        "id": "b1NGjaIsICu1"
      },
      "source": [
        "\"\"\"  \n",
        "# Exercise at 27.06.2024 from Eng. Ola\n",
        "\n",
        "- Project Zoo Mamnagment System\n",
        "- Exercise for Classes and Functions\n",
        "\n",
        "\"\"\""
      ]
    },
    {
      "cell_type": "markdown",
      "metadata": {
        "id": "3BrUwVWpOx0J"
      },
      "source": [
        "\"\"\"\n",
        "#Exercise: Zoo Management System\n",
        "\n",
        "Objective:\n",
        "\n",
        "Create a simple Zoo Management System using inheritance. You will create a base class\n",
        "Animal and derive specific animal classes from it.\n",
        "\n",
        "Instructions:\n",
        "\n",
        "1. Create a base class Animal:\n",
        "This class should have the folowing attributes:\n",
        "name: the name of the animal (string)\n",
        "age: the age of the animal (integer)\n",
        "species: the species of the animal (string)\n",
        "This class should have the following methods:\n",
        "    --init_-(self, name, age, species): constructor to initialize the\n",
        "attributes.\n",
        "make_sound (self):a method that prints a general sound, like \"Some\n",
        "generic animal sound\".\n",
        "2. Greate subclasses for specific animals:\n",
        "Create at least three subclasses that inherit from Animal. For example, Lion,\n",
        "Elephant, and Monkey.\n",
        "Each subclass should overide the make_sound method to print a sound specific\n",
        "to that animal. For example, a lion might roar, an elephant might trumpet, and a\n",
        "monkey might chatter.\n",
        "Add an additional attribute or method to each subclass that is specific to that\n",
        "animal. For example, Lion could have an attribute mane_size and a method\n",
        "hunt, Elephant could have an attribute trunk_length and a method\n",
        "swing_trunk, and Monkey could have an attribute tail_length and a\n",
        "method swing.\n",
        "3. Test the classes:\n",
        "Create instances of each subclass and test their methods.\n",
        "Print out the details of each animal (name, age, species) and call their\n",
        "make_sound method.\n",
        "\n",
        "\"\"\""
      ]
    },
    {
      "cell_type": "code",
      "execution_count": 13,
      "metadata": {
        "dotnet_interactive": {
          "language": "csharp"
        },
        "polyglot_notebook": {
          "kernelName": "csharp"
        },
        "vscode": {
          "languageId": "polyglot-notebook"
        }
      },
      "outputs": [
        {
          "ename": "Error",
          "evalue": "(11,4): error CS1002: ; expected\r\n(13,7): error CS1003: Syntax error, ',' expected\r\n(13,15): error CS1003: Syntax error, ',' expected\r\n(13,16): error CS1003: Syntax error, ',' expected\r\n(13,40): error CS1003: Syntax error, ',' expected\r\n(13,41): error CS1514: { expected\r\n(13,41): error CS1513: } expected\r\n(13,41): error CS7017: Member definition, statement, or end-of-file expected\r\n(14,21): error CS1002: ; expected\r\n(15,18): error CS1002: ; expected\r\n(16,27): error CS1002: ; expected\r\n(18,22): error CS1001: Identifier expected\r\n(18,24): error CS1018: Keyword 'this' or 'base' expected\r\n(18,24): error CS1002: ; expected",
          "output_type": "error",
          "traceback": [
            "(11,4): error CS1002: ; expected\r\n",
            "(13,7): error CS1003: Syntax error, ',' expected\r\n",
            "(13,15): error CS1003: Syntax error, ',' expected\r\n",
            "(13,16): error CS1003: Syntax error, ',' expected\r\n",
            "(13,40): error CS1003: Syntax error, ',' expected\r\n",
            "(13,41): error CS1514: { expected\r\n",
            "(13,41): error CS1513: } expected\r\n",
            "(13,41): error CS7017: Member definition, statement, or end-of-file expected\r\n",
            "(14,21): error CS1002: ; expected\r\n",
            "(15,18): error CS1002: ; expected\r\n",
            "(16,27): error CS1002: ; expected\r\n",
            "(18,22): error CS1001: Identifier expected\r\n",
            "(18,24): error CS1018: Keyword 'this' or 'base' expected\r\n",
            "(18,24): error CS1002: ; expected"
          ]
        }
      ],
      "source": [
        "\"\"\"\n",
        "1. Create a base class Animal:\n",
        "This class should have the folowing attributes:\n",
        "--> name: the name of the animal (string)\n",
        "-->age: the age of the animal (integer)\n",
        "--> species: the species of the animal (string)\n",
        "This class should have the following methods:\n",
        "-->   --init_-(self, name, age, species): constructor to initialize the attributes.\n",
        "--> make_sound (self):a method that prints a general sound, like\n",
        "-->  \"Some  generic animal sound\".\n",
        "\"\"\"\n",
        "class Animal:\n",
        "  def __init__(self, name, age, species):\n",
        "    self.name = name\n",
        "    self.age= age\n",
        "    self.species = species\n",
        "\n",
        "  def make_sound(self):\n",
        "    print(\"Some generic animal sound\")"
      ]
    },
    {
      "cell_type": "code",
      "execution_count": 14,
      "metadata": {
        "dotnet_interactive": {
          "language": "csharp"
        },
        "polyglot_notebook": {
          "kernelName": "csharp"
        },
        "vscode": {
          "languageId": "polyglot-notebook"
        }
      },
      "outputs": [
        {
          "ename": "Error",
          "evalue": "(20,4): error CS1002: ; expected\r\n(22,1): error CS1024: Preprocessor directive expected\r\n(23,18): error CS1001: Identifier expected\r\n(24,7): error CS1003: Syntax error, ',' expected\r\n(24,15): error CS1003: Syntax error, ',' expected\r\n(24,16): error CS1003: Syntax error, ',' expected\r\n(24,52): error CS1003: Syntax error, ',' expected\r\n(24,53): error CS1514: { expected\r\n(24,53): error CS1513: } expected\r\n(24,53): error CS7017: Member definition, statement, or end-of-file expected\r\n(25,41): error CS1002: ; expected\r\n(26,30): error CS1002: ; expected\r\n(28,22): error CS1001: Identifier expected\r\n(28,24): error CS1018: Keyword 'this' or 'base' expected\r\n(28,24): error CS1002: ; expected\r\n(29,12): error CS1003: Syntax error, ',' expected\r\n(29,31): error CS1002: ; expected\r\n(31,16): error CS1001: Identifier expected\r\n(31,18): error CS1018: Keyword 'this' or 'base' expected\r\n(31,18): error CS1002: ; expected\r\n(32,12): error CS1003: Syntax error, ',' expected\r\n(32,32): error CS1002: ; expected\r\n(34,1): error CS1024: Preprocessor directive expected\r\n(35,22): error CS1001: Identifier expected\r\n(36,7): error CS1003: Syntax error, ',' expected\r\n(36,15): error CS1003: Syntax error, ',' expected\r\n(36,16): error CS1003: Syntax error, ',' expected\r\n(36,54): error CS1003: Syntax error, ',' expected\r\n(36,55): error CS1514: { expected\r\n(36,55): error CS1513: } expected\r\n(36,55): error CS7017: Member definition, statement, or end-of-file expected\r\n(37,41): error CS1002: ; expected\r\n(38,36): error CS1002: ; expected\r\n(40,22): error CS1001: Identifier expected\r\n(40,24): error CS1018: Keyword 'this' or 'base' expected\r\n(40,24): error CS1002: ; expected\r\n(41,12): error CS1003: Syntax error, ',' expected\r\n(41,34): error CS1002: ; expected\r\n(43,23): error CS1001: Identifier expected\r\n(43,25): error CS1018: Keyword 'this' or 'base' expected\r\n(43,25): error CS1002: ; expected\r\n(44,12): error CS1003: Syntax error, ',' expected\r\n(44,34): error CS1002: ; expected\r\n(46,1): error CS1024: Preprocessor directive expected\r\n(47,20): error CS1001: Identifier expected\r\n(48,7): error CS1003: Syntax error, ',' expected\r\n(48,15): error CS1003: Syntax error, ',' expected\r\n(48,16): error CS1003: Syntax error, ',' expected\r\n(48,54): error CS1003: Syntax error, ',' expected\r\n(48,55): error CS1514: { expected\r\n(48,55): error CS1513: } expected\r\n(48,55): error CS7017: Member definition, statement, or end-of-file expected\r\n(49,41): error CS1002: ; expected\r\n(50,34): error CS1002: ; expected\r\n(52,22): error CS1001: Identifier expected\r\n(52,24): error CS1018: Keyword 'this' or 'base' expected\r\n(52,24): error CS1002: ; expected\r\n(53,12): error CS1003: Syntax error, ',' expected\r\n(53,35): error CS1002: ; expected\r\n(55,17): error CS1001: Identifier expected\r\n(55,19): error CS1018: Keyword 'this' or 'base' expected\r\n(55,19): error CS1002: ; expected\r\n(56,12): error CS1003: Syntax error, ',' expected\r\n(56,34): error CS1002: ; expected\r\n(58,41): error CS1002: ; expected\r\n(59,50): error CS1002: ; expected\r\n(60,45): error CS1002: ; expected\r\n(63,9): error CS1002: ; expected\r\n(64,15): error CS1002: ; expected\r\n(66,16): error CS1002: ; expected\r\n(67,15): error CS1002: ; expected\r\n(69,15): error CS1002: ; expected",
          "output_type": "error",
          "traceback": [
            "(20,4): error CS1002: ; expected\r\n",
            "(22,1): error CS1024: Preprocessor directive expected\r\n",
            "(23,18): error CS1001: Identifier expected\r\n",
            "(24,7): error CS1003: Syntax error, ',' expected\r\n",
            "(24,15): error CS1003: Syntax error, ',' expected\r\n",
            "(24,16): error CS1003: Syntax error, ',' expected\r\n",
            "(24,52): error CS1003: Syntax error, ',' expected\r\n",
            "(24,53): error CS1514: { expected\r\n",
            "(24,53): error CS1513: } expected\r\n",
            "(24,53): error CS7017: Member definition, statement, or end-of-file expected\r\n",
            "(25,41): error CS1002: ; expected\r\n",
            "(26,30): error CS1002: ; expected\r\n",
            "(28,22): error CS1001: Identifier expected\r\n",
            "(28,24): error CS1018: Keyword 'this' or 'base' expected\r\n",
            "(28,24): error CS1002: ; expected\r\n",
            "(29,12): error CS1003: Syntax error, ',' expected\r\n",
            "(29,31): error CS1002: ; expected\r\n",
            "(31,16): error CS1001: Identifier expected\r\n",
            "(31,18): error CS1018: Keyword 'this' or 'base' expected\r\n",
            "(31,18): error CS1002: ; expected\r\n",
            "(32,12): error CS1003: Syntax error, ',' expected\r\n",
            "(32,32): error CS1002: ; expected\r\n",
            "(34,1): error CS1024: Preprocessor directive expected\r\n",
            "(35,22): error CS1001: Identifier expected\r\n",
            "(36,7): error CS1003: Syntax error, ',' expected\r\n",
            "(36,15): error CS1003: Syntax error, ',' expected\r\n",
            "(36,16): error CS1003: Syntax error, ',' expected\r\n",
            "(36,54): error CS1003: Syntax error, ',' expected\r\n",
            "(36,55): error CS1514: { expected\r\n",
            "(36,55): error CS1513: } expected\r\n",
            "(36,55): error CS7017: Member definition, statement, or end-of-file expected\r\n",
            "(37,41): error CS1002: ; expected\r\n",
            "(38,36): error CS1002: ; expected\r\n",
            "(40,22): error CS1001: Identifier expected\r\n",
            "(40,24): error CS1018: Keyword 'this' or 'base' expected\r\n",
            "(40,24): error CS1002: ; expected\r\n",
            "(41,12): error CS1003: Syntax error, ',' expected\r\n",
            "(41,34): error CS1002: ; expected\r\n",
            "(43,23): error CS1001: Identifier expected\r\n",
            "(43,25): error CS1018: Keyword 'this' or 'base' expected\r\n",
            "(43,25): error CS1002: ; expected\r\n",
            "(44,12): error CS1003: Syntax error, ',' expected\r\n",
            "(44,34): error CS1002: ; expected\r\n",
            "(46,1): error CS1024: Preprocessor directive expected\r\n",
            "(47,20): error CS1001: Identifier expected\r\n",
            "(48,7): error CS1003: Syntax error, ',' expected\r\n",
            "(48,15): error CS1003: Syntax error, ',' expected\r\n",
            "(48,16): error CS1003: Syntax error, ',' expected\r\n",
            "(48,54): error CS1003: Syntax error, ',' expected\r\n",
            "(48,55): error CS1514: { expected\r\n",
            "(48,55): error CS1513: } expected\r\n",
            "(48,55): error CS7017: Member definition, statement, or end-of-file expected\r\n",
            "(49,41): error CS1002: ; expected\r\n",
            "(50,34): error CS1002: ; expected\r\n",
            "(52,22): error CS1001: Identifier expected\r\n",
            "(52,24): error CS1018: Keyword 'this' or 'base' expected\r\n",
            "(52,24): error CS1002: ; expected\r\n",
            "(53,12): error CS1003: Syntax error, ',' expected\r\n",
            "(53,35): error CS1002: ; expected\r\n",
            "(55,17): error CS1001: Identifier expected\r\n",
            "(55,19): error CS1018: Keyword 'this' or 'base' expected\r\n",
            "(55,19): error CS1002: ; expected\r\n",
            "(56,12): error CS1003: Syntax error, ',' expected\r\n",
            "(56,34): error CS1002: ; expected\r\n",
            "(58,41): error CS1002: ; expected\r\n",
            "(59,50): error CS1002: ; expected\r\n",
            "(60,45): error CS1002: ; expected\r\n",
            "(63,9): error CS1002: ; expected\r\n",
            "(64,15): error CS1002: ; expected\r\n",
            "(66,16): error CS1002: ; expected\r\n",
            "(67,15): error CS1002: ; expected\r\n",
            "(69,15): error CS1002: ; expected"
          ]
        }
      ],
      "source": [
        "\"\"\"\n",
        "2. Greate subclasses for specific animals:\n",
        "Create at least three subclasses that inherit from Animal.\n",
        "For example, Lion, Elephant, and Monkey.\n",
        "\n",
        "Each subclass should overide the make_sound method to print a sound specific\n",
        "to that animal.\n",
        "\n",
        "For example,\n",
        "--> a lion might roar,\n",
        "--> an elephant might trumpet,\n",
        "--> and a monkey might chatter.\n",
        "\n",
        "Add an additional attribute or method to each subclass that is specific to that\n",
        "animal. For example,\n",
        "--> Lion could have an attribute mane_size and a method hunt,\n",
        "--> Elephant could have an attribute trunk_length and a method swing_trunk, and\n",
        "--> Monkey could have an attribute tail_length and a method swing.\n",
        "\n",
        "\"\"\"\n",
        "\n",
        "# 01\n",
        "class Lion(Animal):\n",
        "  def __init__(self, name, age, species, mane_size ):\n",
        "    super().__init__(name, age, species)\n",
        "    self.mane_size= mane_size\n",
        "\n",
        "  def make_sound(self):\n",
        "    print(f\"{self.name} roar\")\n",
        "\n",
        "  def hunt(self):\n",
        "    print(f\"{self.name} hunts\")\n",
        "\n",
        "#02\n",
        "class Elephant(Animal):\n",
        "  def __init__(self, name, age, species, trunk_length):\n",
        "    super().__init__(name, age, species)\n",
        "    self.trunk_length= trunk_length\n",
        "\n",
        "  def make_sound(self):\n",
        "    print(f\"{self.name} trumpet\")\n",
        "\n",
        "  def swing_trunk(self):\n",
        "    print(f\"{self.name}  trunks\")\n",
        "\n",
        "#03\n",
        "class Monkey(Animal):\n",
        "  def __init__(self, name, age, species, tail_length ):\n",
        "    super().__init__(name, age, species)\n",
        "    self.tail_length= tail_length\n",
        "\n",
        "  def make_sound(self):\n",
        "    print(f\"{self.name}  chatter\")\n",
        "\n",
        "  def swing(self):\n",
        "    print(f\"{self.name}  swings\")\n",
        "\n",
        "l= Lion(\"Lion01\", 10, \"  Lion\", \"small\")\n",
        "e= Elephant(\"Elephant01\", 50, \" elephant\", \"big\")\n",
        "m= Monkey(\"Monkey01\", 5, \" Monkey\", \" long\")\n",
        "\n",
        "\n",
        "l.hunt()\n",
        "l.make_sound()\n",
        "\n",
        "e.swing_trunk()\n",
        "e.make_sound()\n",
        "\n",
        "m.make_sound()\n",
        "m.swing()\n"
      ]
    }
  ],
  "metadata": {
    "colab": {
      "provenance": []
    },
    "kernelspec": {
      "display_name": ".NET (C#)",
      "language": "C#",
      "name": ".net-csharp"
    },
    "language_info": {
      "name": "python"
    },
    "polyglot_notebook": {
      "kernelInfo": {
        "defaultKernelName": "csharp",
        "items": [
          {
            "aliases": [],
            "name": "csharp"
          }
        ]
      }
    }
  },
  "nbformat": 4,
  "nbformat_minor": 0
}
