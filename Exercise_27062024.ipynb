{
  "cells": [
    {
      "cell_type": "markdown",
      "metadata": {
        "colab_type": "text",
        "id": "view-in-github"
      },
      "source": [
        "<a href=\"https://colab.research.google.com/github/abattiasia/KI-Kurs-Mystro/blob/main/Exercise_27062024.ipynb\" target=\"_parent\"><img src=\"https://colab.research.google.com/assets/colab-badge.svg\" alt=\"Open In Colab\"/></a>"
      ]
    },
    {
      "cell_type": "markdown",
      "metadata": {
        "id": "b1NGjaIsICu1"
      },
      "source": [
        "# Exercise at 27.06.2024 from Eng. Ola\n",
        "\n",
        "- Project Zoo Mamnagment System\n",
        "- Exercise for Classes and Functions"
      ]
    },
    {
      "cell_type": "markdown",
      "metadata": {
        "id": "3BrUwVWpOx0J"
      },
      "source": [
        "#Exercise: Zoo Management System\n",
        "\n",
        "Objective:\n",
        "\n",
        "Create a simple Zoo Management System using inheritance. You will create a base class\n",
        "Animal and derive specific animal classes from it.\n",
        "\n",
        "Instructions:\n",
        "\n",
        "1. Create a base class Animal:\n",
        "This class should have the folowing attributes:\n",
        "name: the name of the animal (string)\n",
        "age: the age of the animal (integer)\n",
        "species: the species of the animal (string)\n",
        "This class should have the following methods:\n",
        "    --init_-(self, name, age, species): constructor to initialize the\n",
        "attributes.\n",
        "make_sound (self):a method that prints a general sound, like \"Some\n",
        "generic animal sound\".\n",
        "2. Greate subclasses for specific animals:\n",
        "Create at least three subclasses that inherit from Animal. For example, Lion,\n",
        "Elephant, and Monkey.\n",
        "Each subclass should overide the make_sound method to print a sound specific\n",
        "to that animal. For example, a lion might roar, an elephant might trumpet, and a\n",
        "monkey might chatter.\n",
        "Add an additional attribute or method to each subclass that is specific to that\n",
        "animal. For example, Lion could have an attribute mane_size and a method\n",
        "hunt, Elephant could have an attribute trunk_length and a method\n",
        "swing_trunk, and Monkey could have an attribute tail_length and a\n",
        "method swing.\n",
        "3. Test the classes:\n",
        "Create instances of each subclass and test their methods.\n",
        "Print out the details of each animal (name, age, species) and call their\n",
        "make_sound method."
      ]
    },
    {
      "cell_type": "markdown",
      "metadata": {},
      "source": []
    },
    {
      "cell_type": "code",
      "execution_count": 1,
      "metadata": {
        "id": "ONUd4IDnZGtq"
      },
      "outputs": [],
      "source": [
        "\"\"\"\n",
        "1. Create a base class Animal:\n",
        "This class should have the folowing attributes:\n",
        "--> name: the name of the animal (string)\n",
        "--> age: the age of the animal (integer)\n",
        "--> species: the species of the animal (string)\n",
        "This class should have the following methods:\n",
        "-->   --init_-(self, name, age, species): constructor to initialize the attributes.\n",
        "--> make_sound (self):a method that prints a general sound, like\n",
        "-->  \"Some  generic animal sound\".\n",
        "\"\"\"\n",
        "class Animal:\n",
        "  def __init__(self, name, age, species):\n",
        "    self.name = name\n",
        "    self.age= age\n",
        "    self.species = species\n",
        "\n",
        "  def make_sound(self):\n",
        "    return(\"Some generic animal sound\")\n"
      ]
    },
    {
      "cell_type": "code",
      "execution_count": 26,
      "metadata": {
        "colab": {
          "base_uri": "https://localhost:8080/"
        },
        "id": "d8d68PXMa9ht",
        "outputId": "5df4652f-3538-419c-8156-bd0563419bf9"
      },
      "outputs": [
        {
          "name": "stdout",
          "output_type": "stream",
          "text": [
            "My Animal is   Lion , his Name is Borry and his age = 10 years\n",
            " Borry hunts  and   Borry roar \n",
            "\n",
            "My Animal is  elephant , his Name is Rambo and his age = 50 years\n",
            " Rambo  trunks   and Rambo trumpet\n",
            "\n",
            "My Animal is  Monkey , his Name is sosy and his age = 5 years\n",
            " sosy  swings and sosy  chatter \n"
          ]
        }
      ],
      "source": [
        "\"\"\"\n",
        "2. Greate subclasses for specific animals:\n",
        "Create at least three subclasses that inherit from Animal.\n",
        "For example, Lion, Elephant, and Monkey.\n",
        "\n",
        "Each subclass should overide the make_sound method to print a sound specific\n",
        "to that animal.\n",
        "\n",
        "For example,\n",
        "--> a lion might roar,\n",
        "--> an elephant might trumpet,\n",
        "--> and a monkey might chatter.\n",
        "\n",
        "Add an additional attribute or method to each subclass that is specific to that\n",
        "animal. For example,\n",
        "--> Lion could have an attribute mane_size and a method hunt,\n",
        "--> Elephant could have an attribute trunk_length and a method swing_trunk, and\n",
        "--> Monkey could have an attribute tail_length and a method swing.\n",
        "\n",
        "\"\"\"\n",
        "\n",
        "# 01\n",
        "class Lion(Animal):\n",
        "  def __init__(self, name, age, species, mane_size ):\n",
        "    super().__init__(name, age, species)\n",
        "    self.mane_size= mane_size\n",
        "\n",
        "  def make_sound(self):\n",
        "    return(f\"{self.name} roar\")\n",
        "\n",
        "  def hunt(self):\n",
        "    return(f\"{self.name} hunts\")\n",
        "\n",
        "#02\n",
        "class Elephant(Animal):\n",
        "  def __init__(self, name, age, species, trunk_length):\n",
        "    super().__init__(name, age, species)\n",
        "    self.trunk_length= trunk_length\n",
        "\n",
        "  def make_sound(self):\n",
        "    return (f\"{self.name} trumpet\")\n",
        "\n",
        "  def swing_trunk(self):\n",
        "    return (f\"{self.name}  trunks\")\n",
        "\n",
        "#03\n",
        "class Monkey(Animal):\n",
        "  def __init__(self, name, age, species, tail_length ):\n",
        "    super().__init__(name, age, species)\n",
        "    self.tail_length= tail_length\n",
        "\n",
        "  def make_sound(self):\n",
        "    return (f\"{self.name}  chatter\")\n",
        "\n",
        "  def swing(self):\n",
        "    return (f\"{self.name}  swings\")\n",
        "\n",
        "\n",
        "def main():\n",
        "    \n",
        "    #  call the amimals:\n",
        "    l= Lion(\"Borry\", 10, \"  Lion\", \"small\")\n",
        "    e= Elephant(\"Rambo\", 50, \" elephant\", \"big\")\n",
        "    m= Monkey(\"sosy\", 5, \" Monkey\", \" long\")\n",
        "\n",
        "    print(f\"My Animal is {l.species} , his Name is {l.name} and his age = {l.age} years\")\n",
        "    print(f\" {l.hunt()}  and   {l.make_sound()} \" )\n",
        "    print (\"\")\n",
        "    print(f\"My Animal is {e.species} , his Name is {e.name} and his age = {e.age} years\")\n",
        "    print(f\" {e.swing_trunk()}   and {e.make_sound()}\" )\n",
        "    print(\"\")\n",
        "    print(f\"My Animal is {m.species} , his Name is {m.name} and his age = {m.age} years\")\n",
        "    print(f\" {m.swing()} and {m.make_sound()} \" )\n",
        "    \n",
        "   \n",
        "if __name__ == \"__main__\":\n",
        "    main()"
      ]
    }
  ],
  "metadata": {
    "colab": {
      "authorship_tag": "ABX9TyNQ9PBPKWih8/fRdhKlxsEG",
      "include_colab_link": true,
      "provenance": []
    },
    "kernelspec": {
      "display_name": "Python 3",
      "name": "python3"
    },
    "language_info": {
      "codemirror_mode": {
        "name": "ipython",
        "version": 3
      },
      "file_extension": ".py",
      "mimetype": "text/x-python",
      "name": "python",
      "nbconvert_exporter": "python",
      "pygments_lexer": "ipython3",
      "version": "3.12.4"
    }
  },
  "nbformat": 4,
  "nbformat_minor": 0
}
