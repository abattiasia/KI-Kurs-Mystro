{
  "metadata": {
    "kernelspec": {
      "language": "python",
      "display_name": "Python 3",
      "name": "python3"
    },
    "language_info": {
      "name": "python",
      "version": "3.10.14",
      "mimetype": "text/x-python",
      "codemirror_mode": {
        "name": "ipython",
        "version": 3
      },
      "pygments_lexer": "ipython3",
      "nbconvert_exporter": "python",
      "file_extension": ".py"
    },
    "kaggle": {
      "accelerator": "none",
      "dataSources": [
        {
          "sourceId": 9057325,
          "sourceType": "datasetVersion",
          "datasetId": 5461486
        }
      ],
      "dockerImageVersionId": 30761,
      "isInternetEnabled": true,
      "language": "python",
      "sourceType": "notebook",
      "isGpuEnabled": false
    },
    "colab": {
      "name": "Mobile Price Range EDA",
      "provenance": [],
      "include_colab_link": true
    }
  },
  "nbformat_minor": 0,
  "nbformat": 4,
  "cells": [
    {
      "cell_type": "markdown",
      "metadata": {
        "id": "view-in-github",
        "colab_type": "text"
      },
      "source": [
        "<a href=\"https://colab.research.google.com/github/abattiasia/KI-Kurs-Mystro/blob/main/Mobile_Price_Range_EDA.ipynb\" target=\"_parent\"><img src=\"https://colab.research.google.com/assets/colab-badge.svg\" alt=\"Open In Colab\"/></a>"
      ]
    },
    {
      "source": [
        "\n",
        "# IMPORTANT: RUN THIS CELL IN ORDER TO IMPORT YOUR KAGGLE DATA SOURCES\n",
        "# TO THE CORRECT LOCATION (/kaggle/input) IN YOUR NOTEBOOK,\n",
        "# THEN FEEL FREE TO DELETE THIS CELL.\n",
        "# NOTE: THIS NOTEBOOK ENVIRONMENT DIFFERS FROM KAGGLE'S PYTHON\n",
        "# ENVIRONMENT SO THERE MAY BE MISSING LIBRARIES USED BY YOUR\n",
        "# NOTEBOOK.\n",
        "\n",
        "import os\n",
        "import sys\n",
        "from tempfile import NamedTemporaryFile\n",
        "from urllib.request import urlopen\n",
        "from urllib.parse import unquote, urlparse\n",
        "from urllib.error import HTTPError\n",
        "from zipfile import ZipFile\n",
        "import tarfile\n",
        "import shutil\n",
        "\n",
        "CHUNK_SIZE = 40960\n",
        "DATA_SOURCE_MAPPING = 'mobile-price-range:https%3A%2F%2Fstorage.googleapis.com%2Fkaggle-data-sets%2F5461486%2F9057325%2Fbundle%2Farchive.zip%3FX-Goog-Algorithm%3DGOOG4-RSA-SHA256%26X-Goog-Credential%3Dgcp-kaggle-com%2540kaggle-161607.iam.gserviceaccount.com%252F20240917%252Fauto%252Fstorage%252Fgoog4_request%26X-Goog-Date%3D20240917T091915Z%26X-Goog-Expires%3D259200%26X-Goog-SignedHeaders%3Dhost%26X-Goog-Signature%3D00c795c2a98d554c40dd97346bb5af69b275d7513446c4ae6b9ce8754f96273b0a1ceb6ceb770a3565b1beae2e5486fa4719253fdca1b2a588907dbbb7bdc2e2eb64b92617424e654a1291e84fc173766322dfc3295fc63636936789fd8cb0e3a6be3ece01cb384eaece2386e30f4c708535db8bfd2eafa45a0d34819d312f9993dd20c3859e9b0d7d64e06f2007dde035b3367ced26a54bd700f91aeccfb006b16d870933d545ff9a281a8dbf5e423e5de0136b912932490d3177e21f318d9a2a21984eb3f8e4d9c620cb801b3f6e5ce0446eb92d4a75e52ebe456e5e390e596dedaa1d4b03e7e350061099fdd5fcc04c4d5b432296059d486d2c0f4cdc9353'\n",
        "\n",
        "KAGGLE_INPUT_PATH='/kaggle/input'\n",
        "KAGGLE_WORKING_PATH='/kaggle/working'\n",
        "KAGGLE_SYMLINK='kaggle'\n",
        "\n",
        "!umount /kaggle/input/ 2> /dev/null\n",
        "shutil.rmtree('/kaggle/input', ignore_errors=True)\n",
        "os.makedirs(KAGGLE_INPUT_PATH, 0o777, exist_ok=True)\n",
        "os.makedirs(KAGGLE_WORKING_PATH, 0o777, exist_ok=True)\n",
        "\n",
        "try:\n",
        "  os.symlink(KAGGLE_INPUT_PATH, os.path.join(\"..\", 'input'), target_is_directory=True)\n",
        "except FileExistsError:\n",
        "  pass\n",
        "try:\n",
        "  os.symlink(KAGGLE_WORKING_PATH, os.path.join(\"..\", 'working'), target_is_directory=True)\n",
        "except FileExistsError:\n",
        "  pass\n",
        "\n",
        "for data_source_mapping in DATA_SOURCE_MAPPING.split(','):\n",
        "    directory, download_url_encoded = data_source_mapping.split(':')\n",
        "    download_url = unquote(download_url_encoded)\n",
        "    filename = urlparse(download_url).path\n",
        "    destination_path = os.path.join(KAGGLE_INPUT_PATH, directory)\n",
        "    try:\n",
        "        with urlopen(download_url) as fileres, NamedTemporaryFile() as tfile:\n",
        "            total_length = fileres.headers['content-length']\n",
        "            print(f'Downloading {directory}, {total_length} bytes compressed')\n",
        "            dl = 0\n",
        "            data = fileres.read(CHUNK_SIZE)\n",
        "            while len(data) > 0:\n",
        "                dl += len(data)\n",
        "                tfile.write(data)\n",
        "                done = int(50 * dl / int(total_length))\n",
        "                sys.stdout.write(f\"\\r[{'=' * done}{' ' * (50-done)}] {dl} bytes downloaded\")\n",
        "                sys.stdout.flush()\n",
        "                data = fileres.read(CHUNK_SIZE)\n",
        "            if filename.endswith('.zip'):\n",
        "              with ZipFile(tfile) as zfile:\n",
        "                zfile.extractall(destination_path)\n",
        "            else:\n",
        "              with tarfile.open(tfile.name) as tarfile:\n",
        "                tarfile.extractall(destination_path)\n",
        "            print(f'\\nDownloaded and uncompressed: {directory}')\n",
        "    except HTTPError as e:\n",
        "        print(f'Failed to load (likely expired) {download_url} to path {destination_path}')\n",
        "        continue\n",
        "    except OSError as e:\n",
        "        print(f'Failed to load {download_url} to path {destination_path}')\n",
        "        continue\n",
        "\n",
        "print('Data source import complete.')\n"
      ],
      "metadata": {
        "id": "kVCvV3aNR2mY"
      },
      "cell_type": "code",
      "outputs": [],
      "execution_count": null
    },
    {
      "cell_type": "code",
      "source": [
        "# This Python 3 environment comes with many helpful analytics libraries installed\n",
        "# It is defined by the kaggle/python Docker image: https://github.com/kaggle/docker-python\n",
        "# For example, here's several helpful packages to load\n",
        "\n",
        "import numpy as np # linear algebra\n",
        "import pandas as pd # data processing, CSV file I/O (e.g. pd.read_csv)\n",
        "\n",
        "# Input data files are available in the read-only \"../input/\" directory\n",
        "# For example, running this (by clicking run or pressing Shift+Enter) will list all files under the input directory\n",
        "\n",
        "import os\n",
        "for dirname, _, filenames in os.walk('/kaggle/input'):\n",
        "    for filename in filenames:\n",
        "        print(os.path.join(dirname, filename))\n",
        "\n",
        "# You can write up to 20GB to the current directory (/kaggle/working/) that gets preserved as output when you create a version using \"Save & Run All\"\n",
        "# You can also write temporary files to /kaggle/temp/, but they won't be saved outside of the current session"
      ],
      "metadata": {
        "_uuid": "8f2839f25d086af736a60e9eeb907d3b93b6e0e5",
        "_cell_guid": "b1076dfc-b9ad-4769-8c92-a6c4dae69d19",
        "execution": {
          "iopub.status.busy": "2024-09-09T11:33:14.689421Z",
          "iopub.execute_input": "2024-09-09T11:33:14.689858Z",
          "iopub.status.idle": "2024-09-09T11:33:15.145023Z",
          "shell.execute_reply.started": "2024-09-09T11:33:14.689815Z",
          "shell.execute_reply": "2024-09-09T11:33:15.143653Z"
        },
        "trusted": true,
        "id": "JBnqIDULR2mb"
      },
      "execution_count": null,
      "outputs": []
    },
    {
      "cell_type": "code",
      "source": [
        "import numpy as np\n",
        "import pandas as pd\n",
        "import matplotlib.pyplot as plt\n",
        "import plotly.express as px\n",
        "\n",
        "from sklearn.model_selection import train_test_split\n",
        "from sklearn.neighbors import KNeighborsClassifier\n",
        "from sklearn.model_selection import cross_val_score\n",
        "\n",
        "from sklearn.svm import SVC\n",
        "\n",
        "from sklearn.preprocessing import StandardScaler\n",
        "from sklearn.metrics import confusion_matrix, classification_report, accuracy_score\n",
        "from sklearn.tree import DecisionTreeClassifier"
      ],
      "metadata": {
        "execution": {
          "iopub.status.busy": "2024-09-09T12:03:16.107575Z",
          "iopub.execute_input": "2024-09-09T12:03:16.108071Z",
          "iopub.status.idle": "2024-09-09T12:03:16.78178Z",
          "shell.execute_reply.started": "2024-09-09T12:03:16.108027Z",
          "shell.execute_reply": "2024-09-09T12:03:16.780624Z"
        },
        "trusted": true,
        "id": "5aX9LWtSR2mb"
      },
      "execution_count": null,
      "outputs": []
    },
    {
      "cell_type": "markdown",
      "source": [
        "# Mobile Price Range\n",
        "\n",
        "About Dataset\n",
        "The .csv file contains data on 2000 mobile and their specifications. The price of a phone become a necessity in our daily lives and the price of that depends on different factors which need to be consider."
      ],
      "metadata": {
        "id": "V4VLW2RkR2mb"
      }
    },
    {
      "cell_type": "code",
      "source": [
        "# read data\n",
        "dftrain = pd.read_csv('/kaggle/input/mobile-price-range/train.csv')\n",
        "dftrain.head()"
      ],
      "metadata": {
        "execution": {
          "iopub.status.busy": "2024-09-09T11:35:36.730954Z",
          "iopub.execute_input": "2024-09-09T11:35:36.731468Z",
          "iopub.status.idle": "2024-09-09T11:35:36.761418Z",
          "shell.execute_reply.started": "2024-09-09T11:35:36.731423Z",
          "shell.execute_reply": "2024-09-09T11:35:36.760194Z"
        },
        "trusted": true,
        "id": "oTv9bqz9R2md"
      },
      "execution_count": null,
      "outputs": []
    },
    {
      "cell_type": "code",
      "source": [
        "dftrain.describe"
      ],
      "metadata": {
        "execution": {
          "iopub.status.busy": "2024-09-09T11:55:13.204284Z",
          "iopub.execute_input": "2024-09-09T11:55:13.205454Z",
          "iopub.status.idle": "2024-09-09T11:55:13.230321Z",
          "shell.execute_reply.started": "2024-09-09T11:55:13.20539Z",
          "shell.execute_reply": "2024-09-09T11:55:13.229034Z"
        },
        "trusted": true,
        "id": "6kBScNC7R2md"
      },
      "execution_count": null,
      "outputs": []
    },
    {
      "cell_type": "code",
      "source": [
        "# read data\n",
        "dftest = pd.read_csv('/kaggle/input/mobile-price-range/test.csv')\n",
        "dftest.head()"
      ],
      "metadata": {
        "execution": {
          "iopub.status.busy": "2024-09-09T11:35:40.480461Z",
          "iopub.execute_input": "2024-09-09T11:35:40.480871Z",
          "iopub.status.idle": "2024-09-09T11:35:40.512818Z",
          "shell.execute_reply.started": "2024-09-09T11:35:40.480834Z",
          "shell.execute_reply": "2024-09-09T11:35:40.511572Z"
        },
        "trusted": true,
        "id": "Y-uDj3N4R2me"
      },
      "execution_count": null,
      "outputs": []
    },
    {
      "cell_type": "code",
      "source": [
        "dftest.describe"
      ],
      "metadata": {
        "execution": {
          "iopub.status.busy": "2024-09-09T11:55:48.507204Z",
          "iopub.execute_input": "2024-09-09T11:55:48.508285Z",
          "iopub.status.idle": "2024-09-09T11:55:48.525115Z",
          "shell.execute_reply.started": "2024-09-09T11:55:48.508234Z",
          "shell.execute_reply": "2024-09-09T11:55:48.523585Z"
        },
        "trusted": true,
        "id": "GZqT_vtxR2me"
      },
      "execution_count": null,
      "outputs": []
    },
    {
      "cell_type": "code",
      "source": [
        "dftrain.columns"
      ],
      "metadata": {
        "execution": {
          "iopub.status.busy": "2024-09-09T11:38:09.519875Z",
          "iopub.execute_input": "2024-09-09T11:38:09.520348Z",
          "iopub.status.idle": "2024-09-09T11:38:09.530063Z",
          "shell.execute_reply.started": "2024-09-09T11:38:09.52028Z",
          "shell.execute_reply": "2024-09-09T11:38:09.528317Z"
        },
        "trusted": true,
        "id": "1fBmj1HyR2mf"
      },
      "execution_count": null,
      "outputs": []
    },
    {
      "cell_type": "code",
      "source": [
        "dftest.columns"
      ],
      "metadata": {
        "execution": {
          "iopub.status.busy": "2024-09-09T11:51:26.014188Z",
          "iopub.execute_input": "2024-09-09T11:51:26.014666Z",
          "iopub.status.idle": "2024-09-09T11:51:26.022903Z",
          "shell.execute_reply.started": "2024-09-09T11:51:26.014625Z",
          "shell.execute_reply": "2024-09-09T11:51:26.021726Z"
        },
        "trusted": true,
        "id": "dzhzlUs_R2mf"
      },
      "execution_count": null,
      "outputs": []
    },
    {
      "cell_type": "code",
      "source": [
        "Xtr=dftrain.drop(columns=['price_range'])\n",
        "ytr=dftrain['price_range']"
      ],
      "metadata": {
        "execution": {
          "iopub.status.busy": "2024-09-09T11:48:54.600331Z",
          "iopub.execute_input": "2024-09-09T11:48:54.600789Z",
          "iopub.status.idle": "2024-09-09T11:48:54.608527Z",
          "shell.execute_reply.started": "2024-09-09T11:48:54.600749Z",
          "shell.execute_reply": "2024-09-09T11:48:54.606937Z"
        },
        "trusted": true,
        "id": "NaGM5hH-R2mf"
      },
      "execution_count": null,
      "outputs": []
    },
    {
      "cell_type": "code",
      "source": [
        "# Xte=dftest.drop(columns=['id'])\n",
        "# #yte=dftest['price_range']"
      ],
      "metadata": {
        "execution": {
          "iopub.status.busy": "2024-09-09T12:05:16.894836Z",
          "iopub.execute_input": "2024-09-09T12:05:16.895278Z",
          "iopub.status.idle": "2024-09-09T12:05:16.903376Z",
          "shell.execute_reply.started": "2024-09-09T12:05:16.89524Z",
          "shell.execute_reply": "2024-09-09T12:05:16.90167Z"
        },
        "trusted": true,
        "id": "lKq05l4MR2mg"
      },
      "execution_count": null,
      "outputs": []
    },
    {
      "cell_type": "code",
      "source": [
        "x=dftrain.drop(columns=['price_range'])\n",
        "y=dftrain['price_range']\n",
        "\n",
        "X_train , X_test , y_train , y_test = train_test_split(x,y,test_size=.20)"
      ],
      "metadata": {
        "execution": {
          "iopub.status.busy": "2024-09-09T12:39:47.862836Z",
          "iopub.execute_input": "2024-09-09T12:39:47.863841Z",
          "iopub.status.idle": "2024-09-09T12:39:47.875076Z",
          "shell.execute_reply.started": "2024-09-09T12:39:47.86379Z",
          "shell.execute_reply": "2024-09-09T12:39:47.873584Z"
        },
        "trusted": true,
        "id": "SDl-wC-7R2mg"
      },
      "execution_count": null,
      "outputs": []
    },
    {
      "cell_type": "markdown",
      "source": [
        "# 01 KNN Prject  K Neighbors Classifier  -> model=KNeighborsClassifier()"
      ],
      "metadata": {
        "id": "j6sr99xqR2mg"
      }
    },
    {
      "cell_type": "code",
      "source": [
        "# build model\n",
        "from sklearn.neighbors import KNeighborsClassifier\n",
        "model = KNeighborsClassifier(n_neighbors=5)\n",
        "model.fit(X_train , y_train)"
      ],
      "metadata": {
        "execution": {
          "iopub.status.busy": "2024-09-09T12:39:51.512481Z",
          "iopub.execute_input": "2024-09-09T12:39:51.512884Z",
          "iopub.status.idle": "2024-09-09T12:39:51.525885Z",
          "shell.execute_reply.started": "2024-09-09T12:39:51.512847Z",
          "shell.execute_reply": "2024-09-09T12:39:51.524746Z"
        },
        "trusted": true,
        "id": "SLnu1PYZR2mg"
      },
      "execution_count": null,
      "outputs": []
    },
    {
      "cell_type": "code",
      "source": [
        "# predict\n",
        "y_pred = model.predict(X_test)\n",
        "y_pred"
      ],
      "metadata": {
        "trusted": true,
        "id": "Zc72oFAIR2mh"
      },
      "execution_count": null,
      "outputs": []
    },
    {
      "cell_type": "code",
      "source": [
        "# accuracy\n",
        "from sklearn.metrics import accuracy_score\n",
        "accuracy_score(y_test , y_pred)"
      ],
      "metadata": {
        "execution": {
          "iopub.status.busy": "2024-09-09T12:40:14.369206Z",
          "iopub.execute_input": "2024-09-09T12:40:14.369635Z",
          "iopub.status.idle": "2024-09-09T12:40:14.380175Z",
          "shell.execute_reply.started": "2024-09-09T12:40:14.369597Z",
          "shell.execute_reply": "2024-09-09T12:40:14.37875Z"
        },
        "trusted": true,
        "id": "teLVqNoPR2mh"
      },
      "execution_count": null,
      "outputs": []
    },
    {
      "cell_type": "code",
      "source": [
        "## choose best k\n",
        "\n",
        "# Define the range of k values to test\n",
        "k_values = range(1, 10)\n",
        "test_accuracies = []\n",
        "\n",
        "# Train the k-NN classifier with different values of k and evaluate on the test set\n",
        "for k in k_values:\n",
        "    knn = KNeighborsClassifier(n_neighbors=k)\n",
        "    knn.fit(X_train, y_train)  # Train the model\n",
        "    y_pred = knn.predict(X_test)  # Predict on the test set\n",
        "    accuracy = accuracy_score(y_test, y_pred)  # Calculate accuracy\n",
        "    test_accuracies.append(accuracy)\n",
        "\n",
        "# Determine the best k\n",
        "best_k = k_values[np.argmax(test_accuracies)]\n",
        "print(f\"The best k value is: {best_k}\")"
      ],
      "metadata": {
        "execution": {
          "iopub.status.busy": "2024-09-09T12:41:13.787677Z",
          "iopub.execute_input": "2024-09-09T12:41:13.788094Z",
          "iopub.status.idle": "2024-09-09T12:41:14.060252Z",
          "shell.execute_reply.started": "2024-09-09T12:41:13.788057Z",
          "shell.execute_reply": "2024-09-09T12:41:14.058981Z"
        },
        "trusted": true,
        "id": "_lf4bs4IR2mh"
      },
      "execution_count": null,
      "outputs": []
    },
    {
      "cell_type": "code",
      "source": [
        "# Plot the k values vs. accuracy on the test set\n",
        "plt.figure(figsize=(10, 6))\n",
        "plt.plot(k_values, test_accuracies, marker='o')\n",
        "plt.xlabel('k')\n",
        "plt.ylabel('Test Set Accuracy')\n",
        "plt.title('k-NN Varying k Value')\n",
        "plt.show()"
      ],
      "metadata": {
        "execution": {
          "iopub.status.busy": "2024-09-09T12:41:28.332628Z",
          "iopub.execute_input": "2024-09-09T12:41:28.333076Z",
          "iopub.status.idle": "2024-09-09T12:41:28.664428Z",
          "shell.execute_reply.started": "2024-09-09T12:41:28.33303Z",
          "shell.execute_reply": "2024-09-09T12:41:28.663098Z"
        },
        "trusted": true,
        "id": "AWGvB9L0R2mh"
      },
      "execution_count": null,
      "outputs": []
    },
    {
      "cell_type": "markdown",
      "source": [
        "# 02 Tree Prject  Decision  Tree  Classifier -> model=DecisionTreeClassifier()"
      ],
      "metadata": {
        "id": "erUwyQljR2mh"
      }
    },
    {
      "cell_type": "code",
      "source": [
        "from sklearn.svm import SVC\n",
        "from sklearn.model_selection import train_test_split\n",
        "from sklearn.preprocessing import StandardScaler\n",
        "from sklearn.metrics import confusion_matrix, classification_report, accuracy_score\n",
        "from sklearn.tree import DecisionTreeClassifier\n",
        "\n",
        "\n",
        "# model\n",
        "model = DecisionTreeClassifier()\n",
        "model.fit(X_train,y_train)"
      ],
      "metadata": {
        "execution": {
          "iopub.status.busy": "2024-09-09T12:48:14.725294Z",
          "iopub.execute_input": "2024-09-09T12:48:14.725875Z",
          "iopub.status.idle": "2024-09-09T12:48:14.7535Z",
          "shell.execute_reply.started": "2024-09-09T12:48:14.725829Z",
          "shell.execute_reply": "2024-09-09T12:48:14.752385Z"
        },
        "trusted": true,
        "id": "RoWr130ZR2mh"
      },
      "execution_count": null,
      "outputs": []
    },
    {
      "cell_type": "code",
      "source": [
        "# predict and accuracy\n",
        "y_pred = model.predict(X_test)\n",
        "y_pred"
      ],
      "metadata": {
        "trusted": true,
        "id": "SBK0K-DcR2mh"
      },
      "execution_count": null,
      "outputs": []
    },
    {
      "cell_type": "code",
      "source": [
        "accuracy_score(y_test,y_pred)"
      ],
      "metadata": {
        "execution": {
          "iopub.status.busy": "2024-09-09T12:48:56.680722Z",
          "iopub.execute_input": "2024-09-09T12:48:56.681152Z",
          "iopub.status.idle": "2024-09-09T12:48:56.689651Z",
          "shell.execute_reply.started": "2024-09-09T12:48:56.68111Z",
          "shell.execute_reply": "2024-09-09T12:48:56.688447Z"
        },
        "trusted": true,
        "id": "p-HGfGmRR2mh"
      },
      "execution_count": null,
      "outputs": []
    },
    {
      "cell_type": "code",
      "source": [
        "# plot tree\n",
        "from sklearn import tree\n",
        "\n",
        "plt.figure(figsize=(20, 10))\n",
        "tree.plot_tree(model)\n",
        "plt.show()"
      ],
      "metadata": {
        "execution": {
          "iopub.status.busy": "2024-09-09T12:49:12.492804Z",
          "iopub.execute_input": "2024-09-09T12:49:12.493226Z",
          "iopub.status.idle": "2024-09-09T12:49:21.571179Z",
          "shell.execute_reply.started": "2024-09-09T12:49:12.493186Z",
          "shell.execute_reply": "2024-09-09T12:49:21.569789Z"
        },
        "trusted": true,
        "id": "QmXhafmCR2mh"
      },
      "execution_count": null,
      "outputs": []
    },
    {
      "cell_type": "markdown",
      "source": [
        "# 03 Randum Project Random Forest --> mdel=RandomForestClassifier()"
      ],
      "metadata": {
        "id": "AyqyGlTbR2mi"
      }
    },
    {
      "cell_type": "code",
      "source": [
        "from sklearn.ensemble import RandomForestClassifier\n",
        "\n",
        "model = RandomForestClassifier(criterion='entropy',n_estimators=30)\n",
        "model.fit(X_train,y_train)"
      ],
      "metadata": {
        "execution": {
          "iopub.status.busy": "2024-09-09T12:52:31.457526Z",
          "iopub.execute_input": "2024-09-09T12:52:31.457966Z",
          "iopub.status.idle": "2024-09-09T12:52:31.710505Z",
          "shell.execute_reply.started": "2024-09-09T12:52:31.457927Z",
          "shell.execute_reply": "2024-09-09T12:52:31.709184Z"
        },
        "trusted": true,
        "id": "zfnGcA0WR2mi"
      },
      "execution_count": null,
      "outputs": []
    },
    {
      "cell_type": "code",
      "source": [
        "# predict and accuracy\n",
        "y_pred = model.predict(X_test)\n",
        "y_pred"
      ],
      "metadata": {
        "trusted": true,
        "id": "9e_VbSMwR2mi"
      },
      "execution_count": null,
      "outputs": []
    },
    {
      "cell_type": "code",
      "source": [
        "accuracy_score(y_test,y_pred)"
      ],
      "metadata": {
        "execution": {
          "iopub.status.busy": "2024-09-09T12:53:13.996268Z",
          "iopub.execute_input": "2024-09-09T12:53:13.996678Z",
          "iopub.status.idle": "2024-09-09T12:53:14.006376Z",
          "shell.execute_reply.started": "2024-09-09T12:53:13.996642Z",
          "shell.execute_reply": "2024-09-09T12:53:14.004858Z"
        },
        "trusted": true,
        "id": "NX093JUuR2mi"
      },
      "execution_count": null,
      "outputs": []
    },
    {
      "cell_type": "code",
      "source": [
        "# Get feature importances\n",
        "importances = model.feature_importances_\n",
        "indices = np.argsort(importances)[::-1]\n",
        "\n",
        "# Print feature importance\n",
        "print(\"Feature importances:\")\n",
        "for i in indices:\n",
        "    print(f\"{x.columns[i]}: {importances[i]}\")"
      ],
      "metadata": {
        "execution": {
          "iopub.status.busy": "2024-09-09T12:53:33.706703Z",
          "iopub.execute_input": "2024-09-09T12:53:33.707178Z",
          "iopub.status.idle": "2024-09-09T12:53:33.718395Z",
          "shell.execute_reply.started": "2024-09-09T12:53:33.707127Z",
          "shell.execute_reply": "2024-09-09T12:53:33.716881Z"
        },
        "trusted": true,
        "id": "C7s-wnuJR2mi"
      },
      "execution_count": null,
      "outputs": []
    },
    {
      "cell_type": "code",
      "source": [
        "# Plot feature importances\n",
        "plt.figure(figsize=(10, 6))\n",
        "plt.title(\"Feature Importances\")\n",
        "plt.bar(range(x.shape[1]), importances[indices], align=\"center\")\n",
        "plt.xticks(range(x.shape[1]), np.array(x.columns)[indices], rotation=45)\n",
        "plt.xlim([-1, x.shape[1]])\n",
        "plt.show()"
      ],
      "metadata": {
        "execution": {
          "iopub.status.busy": "2024-09-09T12:53:48.450561Z",
          "iopub.execute_input": "2024-09-09T12:53:48.45107Z",
          "iopub.status.idle": "2024-09-09T12:53:48.80473Z",
          "shell.execute_reply.started": "2024-09-09T12:53:48.451026Z",
          "shell.execute_reply": "2024-09-09T12:53:48.803391Z"
        },
        "trusted": true,
        "id": "-gudyUDxR2mi"
      },
      "execution_count": null,
      "outputs": []
    },
    {
      "cell_type": "markdown",
      "source": [
        "# Comparison  between the 3 Models"
      ],
      "metadata": {
        "id": "xfWA2XPzR2mi"
      }
    },
    {
      "cell_type": "markdown",
      "source": [
        "KNeighborsClassifier() accuracy =  92%\n",
        "\n",
        "DecisionTreeClassifier() accuracy = 81.5%\n",
        "\n",
        "RandomForestClassifier()  accuracy = 82.57%"
      ],
      "metadata": {
        "id": "dKlZn3YOR2mi"
      }
    }
  ]
}