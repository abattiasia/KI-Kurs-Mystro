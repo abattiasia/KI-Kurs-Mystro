{
  "cells": [
    {
      "cell_type": "markdown",
      "metadata": {
        "colab_type": "text",
        "id": "view-in-github"
      },
      "source": [
        "<a href=\"https://colab.research.google.com/github/abattiasia/KI-Kurs-Mystro/blob/main/abattia_Exercise.ipynb\" target=\"_parent\"><img src=\"https://colab.research.google.com/assets/colab-badge.svg\" alt=\"Open In Colab\"/></a>"
      ]
    },
    {
      "cell_type": "markdown",
      "metadata": {},
      "source": [
        "\"\"\"\n",
        "Attia   Exercise Py-01  am 21.06.2024\n",
        "\"\"\""
      ]
    },
    {
      "cell_type": "markdown",
      "metadata": {
        "id": "je3MWym2YhRt"
      },
      "source": [
        "**Exercise 01**"
      ]
    },
    {
      "cell_type": "code",
      "execution_count": null,
      "metadata": {
        "colab": {
          "base_uri": "https://localhost:8080/"
        },
        "id": "A5K2YQ01Z82C",
        "outputId": "c1b2d45c-e4a5-4eac-8359-7d2b52a4db03"
      },
      "outputs": [
        {
          "name": "stdout",
          "output_type": "stream",
          "text": [
            "Abdou Attia 64\n"
          ]
        }
      ],
      "source": [
        "name= \"Abdou Attia\"\n",
        "age= 64\n",
        "print (name , age)"
      ]
    },
    {
      "cell_type": "markdown",
      "metadata": {
        "id": "1I9XPILoaLXb"
      },
      "source": [
        "Exercise 02"
      ]
    },
    {
      "cell_type": "code",
      "execution_count": null,
      "metadata": {
        "colab": {
          "base_uri": "https://localhost:8080/"
        },
        "id": "dQg_BmOPZS_H",
        "outputId": "78cbd5e1-c4c4-40fa-dfdd-982d45cba8c0"
      },
      "outputs": [
        {
          "name": "stdout",
          "output_type": "stream",
          "text": [
            "20\n",
            "10\n",
            "75\n",
            "759375\n"
          ]
        }
      ],
      "source": [
        "a= 15\n",
        "b= 5\n",
        "print (a+b)\n",
        "print (a-b)\n",
        "print (a*b)\n",
        "print (a**b)"
      ]
    },
    {
      "cell_type": "markdown",
      "metadata": {
        "id": "-cgknL0SZrZT"
      },
      "source": [
        "Exercise 03"
      ]
    },
    {
      "cell_type": "code",
      "execution_count": null,
      "metadata": {
        "colab": {
          "base_uri": "https://localhost:8080/"
        },
        "id": "ttCtCRhEYPpF",
        "outputId": "e095deb9-5ba4-4a3b-d798-87454457bf6b"
      },
      "outputs": [
        {
          "name": "stdout",
          "output_type": "stream",
          "text": [
            "Abdou Attia\n"
          ]
        }
      ],
      "source": [
        "first_name = \"Abdou\"\n",
        "last_name= \"Attia\"\n",
        "print (first_name + \" \"+ last_name)"
      ]
    },
    {
      "cell_type": "code",
      "execution_count": null,
      "metadata": {
        "id": "gSvr6vQDYaHD"
      },
      "outputs": [],
      "source": []
    },
    {
      "cell_type": "markdown",
      "metadata": {
        "id": "Z-r88BFHZyop"
      },
      "source": [
        "Exercise 04"
      ]
    },
    {
      "cell_type": "code",
      "execution_count": null,
      "metadata": {
        "colab": {
          "base_uri": "https://localhost:8080/"
        },
        "id": "JsAhgpPsaQ7Y",
        "outputId": "feb37424-a7e4-4ff2-ce0f-72077121a00b"
      },
      "outputs": [
        {
          "name": "stdout",
          "output_type": "stream",
          "text": [
            "5\n"
          ]
        }
      ],
      "source": [
        "counter=4\n",
        "counter=counter+1\n",
        "print (counter)"
      ]
    },
    {
      "cell_type": "code",
      "execution_count": null,
      "metadata": {
        "id": "UYbAbVQ_Z5L9"
      },
      "outputs": [],
      "source": []
    },
    {
      "cell_type": "markdown",
      "metadata": {
        "id": "NybzO45_aenh"
      },
      "source": [
        "Exercise 05"
      ]
    },
    {
      "cell_type": "code",
      "execution_count": null,
      "metadata": {
        "colab": {
          "base_uri": "https://localhost:8080/"
        },
        "id": "X017NiRUaf-w",
        "outputId": "0ec4689c-15b6-4385-b3d8-959798dab3e6"
      },
      "outputs": [
        {
          "name": "stdout",
          "output_type": "stream",
          "text": [
            "x, y =  6 7\n",
            "x, y =  7 6\n"
          ]
        }
      ],
      "source": [
        "x = 6\n",
        "y = 7\n",
        "print (\"x, y = \", x,y)\n",
        "z = y\n",
        "y = x\n",
        "x=z\n",
        "print (\"x, y = \",x,y)\n",
        "\n"
      ]
    },
    {
      "cell_type": "markdown",
      "metadata": {
        "id": "4ACkxeotZESC"
      },
      "source": [
        "Exercise 06\n"
      ]
    },
    {
      "cell_type": "code",
      "execution_count": null,
      "metadata": {
        "colab": {
          "base_uri": "https://localhost:8080/"
        },
        "id": "5AW46fbxdChU",
        "outputId": "0f949161-71cb-4b28-c25b-76328e057d04"
      },
      "outputs": [
        {
          "name": "stdout",
          "output_type": "stream",
          "text": [
            "circumference =  31.4159\n"
          ]
        }
      ],
      "source": [
        "PI=3.14159\n",
        "radius= 5\n",
        "circumference = 2*PI*radius\n",
        "print(\"circumference = \", circumference)"
      ]
    },
    {
      "cell_type": "markdown",
      "metadata": {
        "id": "Ufwo1i43dzIF"
      },
      "source": [
        "Exercise 07"
      ]
    },
    {
      "cell_type": "code",
      "execution_count": null,
      "metadata": {
        "colab": {
          "base_uri": "https://localhost:8080/"
        },
        "id": "_zEcIP-ld4js",
        "outputId": "18a44f7f-e636-43fb-eb09-7c2d0cfa5d7c"
      },
      "outputs": [
        {
          "name": "stdout",
          "output_type": "stream",
          "text": [
            "True False\n"
          ]
        }
      ],
      "source": [
        "is_sunny= True\n",
        "is_raining= False\n",
        "print (is_sunny, is_raining)\n"
      ]
    },
    {
      "cell_type": "markdown",
      "metadata": {
        "id": "GaVtqWpfd3OU"
      },
      "source": []
    },
    {
      "cell_type": "markdown",
      "metadata": {
        "id": "1OlK7R8U2fYu"
      },
      "source": [
        "Exercise 08\n"
      ]
    },
    {
      "cell_type": "code",
      "execution_count": 2,
      "metadata": {
        "colab": {
          "base_uri": "https://localhost:8080/"
        },
        "id": "KXyTfUEj2kuH",
        "outputId": "09ec2556-1023-4849-932b-dc1e3505916f"
      },
      "outputs": [
        {
          "name": "stdout",
          "output_type": "stream",
          "text": [
            "5 5\n"
          ]
        }
      ],
      "source": [
        "num=5\n",
        "num_str= str(num)\n",
        "print(num, num_str)\n"
      ]
    },
    {
      "cell_type": "markdown",
      "metadata": {
        "id": "jcJmKY7_26oS"
      },
      "source": [
        "Exercise 09"
      ]
    },
    {
      "cell_type": "code",
      "execution_count": 3,
      "metadata": {
        "colab": {
          "base_uri": "https://localhost:8080/"
        },
        "id": "ZQLciepI28Q5",
        "outputId": "ca5833ee-9a69-4476-ae5a-601520181c37"
      },
      "outputs": [
        {
          "name": "stdout",
          "output_type": "stream",
          "text": [
            "5\n"
          ]
        }
      ],
      "source": [
        "sentence=\"hello\"\n",
        "ca= len(sentence)\n",
        "print (ca)"
      ]
    },
    {
      "cell_type": "markdown",
      "metadata": {
        "id": "be5lsXu_3TNO"
      },
      "source": [
        "Exercise 10"
      ]
    },
    {
      "cell_type": "code",
      "execution_count": 1,
      "metadata": {
        "colab": {
          "base_uri": "https://localhost:8080/"
        },
        "id": "1AG1lU5b3Vvw",
        "outputId": "6edde6a7-72ae-4154-c85b-ab92a8cfe28a"
      },
      "outputs": [
        {
          "name": "stdout",
          "output_type": "stream",
          "text": [
            "27.160493827160494\n"
          ]
        }
      ],
      "source": [
        "height_in_meters= 1.8\n",
        "weight_in_kilograms= 88\n",
        "BMI= weight_in_kilograms/(height_in_meters**2)\n",
        "print (BMI)"
      ]
    }
  ],
  "metadata": {
    "colab": {
      "authorship_tag": "ABX9TyPti/9qFIMPtzIgxrA/+1kw",
      "include_colab_link": true,
      "provenance": []
    },
    "kernelspec": {
      "display_name": "Python 3",
      "name": "python3"
    },
    "language_info": {
      "codemirror_mode": {
        "name": "ipython",
        "version": 3
      },
      "file_extension": ".py",
      "mimetype": "text/x-python",
      "name": "python",
      "nbconvert_exporter": "python",
      "pygments_lexer": "ipython3",
      "version": "3.12.4"
    }
  },
  "nbformat": 4,
  "nbformat_minor": 0
}
