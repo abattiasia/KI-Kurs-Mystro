{
  "cells": [
    {
      "cell_type": "markdown",
      "metadata": {
        "colab_type": "text",
        "id": "view-in-github"
      },
      "source": [
        "<a href=\"https://colab.research.google.com/github/abattiasia/KI-Kurs-Mystro/blob/main/Exercises_24_06_2024.ipynb\" target=\"_parent\"><img src=\"https://colab.research.google.com/assets/colab-badge.svg\" alt=\"Open In Colab\"/></a>"
      ]
    },
    {
      "cell_type": "markdown",
      "metadata": {
        "id": "O0yz3e06z6qK"
      },
      "source": [
        "#Today Afternon with Eng. Ola\n",
        "Python Task 2 : Operators and conditions"
      ]
    },
    {
      "cell_type": "markdown",
      "metadata": {
        "id": "d4fx8IDe3FAA"
      },
      "source": [
        "Exercise 1: Basic Conditions Problem: Write a program that asks the user to input their age and then prints whether they are a minor (under 18), an adult (18-64), or a senior (65 and older)."
      ]
    },
    {
      "cell_type": "code",
      "execution_count": null,
      "metadata": {
        "colab": {
          "base_uri": "https://localhost:8080/"
        },
        "id": "-ZQObUEg2_Xj",
        "outputId": "bc7cd02f-bd09-47f4-88c7-29d8ad1c7f9b"
      },
      "outputs": [
        {
          "name": "stdout",
          "output_type": "stream",
          "text": [
            "input your age = 66\n",
            "he is a senior \n"
          ]
        }
      ],
      "source": [
        "age = int(input(\"input your age = \"))\n",
        "\n",
        "if age < 18 :          print (\"he is a minor \")\n",
        "\n",
        "elif age > 18 and age < 65:           print (\"he is a adult\")\n",
        "else :\n",
        "          print (\"he is a senior \")"
      ]
    },
    {
      "cell_type": "markdown",
      "metadata": {
        "id": "KS9EgsqW2x7O"
      },
      "source": [
        " Exercise 2: Comparison Operators\n",
        " Problem: Write a program that takes two numbers as input from the user and prints which one\n",
        "is greater or if they are equal."
      ]
    },
    {
      "cell_type": "code",
      "execution_count": null,
      "metadata": {
        "colab": {
          "base_uri": "https://localhost:8080/"
        },
        "id": "4x_ZAK_Z5tLO",
        "outputId": "d12e4115-9cc7-453c-cb21-d2fd7a1fb0fd"
      },
      "outputs": [
        {
          "name": "stdout",
          "output_type": "stream",
          "text": [
            "input x = 77\n",
            "input y = 66\n",
            "77\n"
          ]
        }
      ],
      "source": [
        "x = int(input(\"input x = \"))\n",
        "y = int(input(\"input y = \"))\n",
        "if x >= y:\n",
        "  print (x)\n"
      ]
    },
    {
      "cell_type": "markdown",
      "metadata": {
        "id": "rHX4gqHn7WQL"
      },
      "source": [
        " Exercise 3: Logical Operators\n",
        " Problem: Write a program that checks if a number input by the user is positive, even, and\n",
        "greater than 10."
      ]
    },
    {
      "cell_type": "code",
      "execution_count": null,
      "metadata": {
        "colab": {
          "base_uri": "https://localhost:8080/"
        },
        "id": "RjVe1Fze7YTU",
        "outputId": "a97be4b8-98d7-44e1-e8ec-16a9d4b45d39"
      },
      "outputs": [
        {
          "name": "stdout",
          "output_type": "stream",
          "text": [
            "input your Number = 88\n",
            " the number is positve, even and > 10  88\n"
          ]
        }
      ],
      "source": [
        "a1 = int(input(\"input your Number = \"))\n",
        "if a1 > 0 and a1 > 10 and a1 % 2 == 0:\n",
        "  print (\" the number is positve, even and > 10 : \",a1)\n",
        "else:\n",
        "  print (\"the number is negative oder or or less than 10 -:\", a1)"
      ]
    },
    {
      "cell_type": "markdown",
      "metadata": {
        "id": "neXW6Y3jBlim"
      },
      "source": [
        "Exercise 4: Nested Conditions\n",
        " Problem: Write a program that asks for the user's score on a test and prints the grade: 'A'\n",
        "(90-100), 'B' (80-89), 'C' (70-79), 'D' (60-69), or 'F' (below 60)."
      ]
    },
    {
      "cell_type": "code",
      "execution_count": 1,
      "metadata": {
        "colab": {
          "base_uri": "https://localhost:8080/"
        },
        "id": "bXULqDT6B4NP",
        "outputId": "dff4c170-2ae2-4eef-f5c9-07c7f8c6e2dd"
      },
      "outputs": [
        {
          "name": "stdout",
          "output_type": "stream",
          "text": [
            " your score is  65  and your grade is D \n"
          ]
        }
      ],
      "source": [
        "score = int(input(\"input your score = \"))\n",
        "if score > 90:\n",
        "  print (\" your score is \", score,\" and your grade is A \")\n",
        "elif score > 80 and score < 89 :\n",
        "    print (\" your score is \", score,\" and your grade is B \")\n",
        "elif score > 70 and score < 79 :\n",
        "      print (\" your score is \", score,\" and your grade is C \")\n",
        "elif score > 60 and score < 69 : print (\" your score is \", score,\" and your grade is D \")\n",
        "else:\n",
        "  print (\" your score is \", score,\" and your grade is F \")"
      ]
    },
    {
      "cell_type": "markdown",
      "metadata": {
        "id": "oH1UJqdhE6sy"
      },
      "source": [
        " ##Exercise 5: Arithmetic Operators\n",
        " Problem:\n",
        " Write a program that asks the user to input two numbers and then prints the sum,\n",
        "difference, product, and quotient of those numbers."
      ]
    },
    {
      "cell_type": "code",
      "execution_count": null,
      "metadata": {
        "colab": {
          "base_uri": "https://localhost:8080/"
        },
        "id": "06MportSBnil",
        "outputId": "09b92fea-30c3-4ea5-def9-46ecb8f94504"
      },
      "outputs": [
        {
          "name": "stdout",
          "output_type": "stream",
          "text": [
            "input number x1 = 8\n",
            "input number x2 = 0\n",
            "sum numbers is  8\n",
            "diff numbers is  8\n",
            "prod numbers is  0\n",
            " no result x2 is 0\n",
            "quo numbers is  None\n"
          ]
        }
      ],
      "source": [
        "x1 = int(input(\"input number x1 = \"))\n",
        "x2 = int(input(\"input number x2 = \"))\n",
        "\n",
        "def mysum(x,y):\n",
        "  result = x+y\n",
        "  return result\n",
        "def mydif(x,y):\n",
        "  result = x-y\n",
        "  return result\n",
        "def mypro(x,y):\n",
        "  result = x*y\n",
        "  return result\n",
        "def myquo(x,y):\n",
        "  if y == 0:\n",
        "    print (\" no result x2 is 0\")\n",
        "    return\n",
        "  else:\n",
        "   result = x/y\n",
        "  return result\n",
        "\n",
        "print (\"sum numbers is \", mysum(x1,x2))\n",
        "print (\"diff numbers is \", mydif(x1,x2))\n",
        "print (\"prod numbers is \", mypro(x1,x2))\n",
        "print (\"quo numbers is \", myquo(x1,x2))"
      ]
    },
    {
      "cell_type": "markdown",
      "metadata": {
        "id": "K3B3c9JmEd48"
      },
      "source": []
    },
    {
      "cell_type": "markdown",
      "metadata": {
        "id": "-ln9EC6fKL1U"
      },
      "source": [
        " Exercise 6: Using elif\n",
        " Problem: Write a program that asks for the day of the week (1-7, where 1 is Monday and 7 is\n",
        "Sunday) and prints whether it is a weekday or the weekend."
      ]
    },
    {
      "cell_type": "code",
      "execution_count": null,
      "metadata": {
        "colab": {
          "base_uri": "https://localhost:8080/"
        },
        "id": "C2Hd59MAKOMU",
        "outputId": "1b661fa4-e78c-42a6-86b4-07656c4231cc"
      },
      "outputs": [
        {
          "name": "stdout",
          "output_type": "stream",
          "text": [
            "input the day number 1-7 = 7\n",
            " it's a weekend Su\n"
          ]
        }
      ],
      "source": [
        "d1 = int(input(\"input the day number 1-7 = \"))\n",
        "if d1== 1:\n",
        "  print (\"it's a weekday Monday\")\n",
        "elif d1==2 : print (\" it's a weekday Tu\")\n",
        "elif d1==3 : print (\" it's a weekday We\")\n",
        "elif d1==4 : print (\" it's a weekday Th\")\n",
        "elif d1==5 : print (\" it's a weekend Fi\")\n",
        "elif d1==6 : print (\" it's a weekend Sa\")\n",
        "elif d1==7 : print (\" it's a weekend Su\")\n",
        "else:\n",
        "  print (\"no Day\")\n",
        "\n"
      ]
    },
    {
      "cell_type": "markdown",
      "metadata": {
        "id": "LC47ZVomM3-t"
      },
      "source": [
        " Exercise 7: Modulus Operator\n",
        " Problem: Write a program that takes a number as input and prints whether it is odd or even."
      ]
    },
    {
      "cell_type": "code",
      "execution_count": null,
      "metadata": {
        "colab": {
          "base_uri": "https://localhost:8080/"
        },
        "id": "aI27mmCoM5yc",
        "outputId": "af83b4b7-418a-4a76-d4cc-d49b6b6a4749"
      },
      "outputs": [
        {
          "name": "stdout",
          "output_type": "stream",
          "text": [
            "input your Number = 7\n",
            "the number is odd 7\n"
          ]
        }
      ],
      "source": [
        "n1 = int(input(\"input your Number = \"))\n",
        "if n1 % 2 == 0:\n",
        "  print (\"the number is even\", n1)\n",
        "else:\n",
        "  print (\"the number is odd\", n1)"
      ]
    },
    {
      "cell_type": "markdown",
      "metadata": {
        "id": "4UVna5kaN59c"
      },
      "source": [
        " Exercise 8: Multiple Conditions\n",
        " Problem: Write a program that asks the user to input a year and determines whether it is a leap\n",
        "year or not."
      ]
    },
    {
      "cell_type": "code",
      "execution_count": null,
      "metadata": {
        "colab": {
          "base_uri": "https://localhost:8080/"
        },
        "id": "BWl1y6EBN7Jt",
        "outputId": "7ff439ae-5acc-450d-9f23-0441977a0c39"
      },
      "outputs": [
        {
          "name": "stdout",
          "output_type": "stream",
          "text": [
            "input your Number = 2024\n",
            "the year is a leap 2024\n"
          ]
        }
      ],
      "source": [
        "year = int(input(\"input your Number = \"))\n",
        "if year % 4 == 0:\n",
        "  print (\"the year is a leap\", year)\n",
        "else:\n",
        "  print (\"the year is not leap\", year)"
      ]
    },
    {
      "cell_type": "markdown",
      "metadata": {
        "id": "yZd2kMIyPKHZ"
      },
      "source": [
        "Exercise 9: Combining Input and Conditions\n",
        " Problem: Write a program that asks the user to input a number and then prints whether the\n",
        "number is positive, negative, or zero."
      ]
    },
    {
      "cell_type": "code",
      "execution_count": null,
      "metadata": {
        "id": "KBQrDQxKPLYY"
      },
      "outputs": [],
      "source": []
    },
    {
      "cell_type": "code",
      "execution_count": null,
      "metadata": {
        "colab": {
          "base_uri": "https://localhost:8080/"
        },
        "id": "nApAqFv5PV75",
        "outputId": "67037d1e-b63d-4395-96c1-d1f5510f6d26"
      },
      "outputs": [
        {
          "name": "stdout",
          "output_type": "stream",
          "text": [
            "input your Number = 0\n",
            "the number is zero 0\n"
          ]
        }
      ],
      "source": [
        "number = int(input(\"input your Number = \"))\n",
        "if number > 0: print (\"the number is positive\",  number)\n",
        "elif number < 0: print (\"the number is negative\",  number)\n",
        "else:\n",
        "  print (\"the number is zero\", number)"
      ]
    },
    {
      "cell_type": "markdown",
      "metadata": {
        "id": "U2nv9tvBQBbL"
      },
      "source": [
        "Exercise 10: Basic Calculator\n",
        " Problem: Write a program that takes two numbers and an operator (+, -, *, /) as input and\n",
        "performs the corresponding operation."
      ]
    },
    {
      "cell_type": "code",
      "execution_count": 1,
      "metadata": {
        "colab": {
          "base_uri": "https://localhost:8080/"
        },
        "id": "WsIhUfOiQC1h",
        "outputId": "61e78e3a-b02c-455f-dbe9-2c756093b703"
      },
      "outputs": [
        {
          "name": "stdout",
          "output_type": "stream",
          "text": [
            "prod numbers is  330\n"
          ]
        }
      ],
      "source": [
        "def mysum(x,y):\n",
        "  result = x+y\n",
        "  return result\n",
        "def mydif(x,y):\n",
        "  result = x-y\n",
        "  return result\n",
        "def mypro(x,y):\n",
        "  result = x*y\n",
        "  return result\n",
        "def myquo(x,y):\n",
        "  if y == 0:\n",
        "    print (\" no result x2 is 0\")\n",
        "    return\n",
        "  else:\n",
        "   result = x/y\n",
        "  return result\n",
        "\n",
        "def main():\n",
        "    x1 = int(input(\"input number x1 = \"))\n",
        "    x2 = int(input(\"input number x2 = \"))\n",
        "    x3 = input(\"input a operation from (+, -, *, /)  = \")\n",
        "\n",
        "    if x3 == \"+\": print (\"sum numbers is \", mysum(x1,x2))\n",
        "    elif x3 == \"-\": print (\"diff numbers is \", mydif(x1,x2))\n",
        "    elif x3 == \"*\": print (\"prod numbers is \", mypro(x1,x2))\n",
        "    elif x3 == \"/\": print (\"quo numbers is \", myquo(x1,x2))\n",
        "    \n",
        "if __name__ == \"__main__\":\n",
        "    main()"
      ]
    }
  ],
  "metadata": {
    "colab": {
      "authorship_tag": "ABX9TyN6+dYd0HexoqDFs+oeL7vy",
      "include_colab_link": true,
      "provenance": []
    },
    "kernelspec": {
      "display_name": "Python 3",
      "name": "python3"
    },
    "language_info": {
      "codemirror_mode": {
        "name": "ipython",
        "version": 3
      },
      "file_extension": ".py",
      "mimetype": "text/x-python",
      "name": "python",
      "nbconvert_exporter": "python",
      "pygments_lexer": "ipython3",
      "version": "3.12.4"
    }
  },
  "nbformat": 4,
  "nbformat_minor": 0
}
