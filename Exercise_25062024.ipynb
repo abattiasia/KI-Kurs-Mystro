{
  "nbformat": 4,
  "nbformat_minor": 0,
  "metadata": {
    "colab": {
      "provenance": [],
      "authorship_tag": "ABX9TyNsj3LmpnmUxITSG685/fmL",
      "include_colab_link": true
    },
    "kernelspec": {
      "name": "python3",
      "display_name": "Python 3"
    },
    "language_info": {
      "name": "python"
    }
  },
  "cells": [
    {
      "cell_type": "markdown",
      "metadata": {
        "id": "view-in-github",
        "colab_type": "text"
      },
      "source": [
        "<a href=\"https://colab.research.google.com/github/abattiasia/KI-Kurs-Mystro/blob/main/Exercise_25062024.ipynb\" target=\"_parent\"><img src=\"https://colab.research.google.com/assets/colab-badge.svg\" alt=\"Open In Colab\"/></a>"
      ]
    },
    {
      "cell_type": "markdown",
      "source": [],
      "metadata": {
        "id": "pWWxqmec85vk"
      }
    },
    {
      "cell_type": "markdown",
      "source": [
        "# Exersice von Eng. Ola"
      ],
      "metadata": {
        "id": "Y785egTR87k6"
      }
    },
    {
      "cell_type": "markdown",
      "source": [
        "Exercise 1: For Loop\n",
        " Problem: Write a program that prints the numbers from 1 to 10 using a for loop."
      ],
      "metadata": {
        "id": "0QljDBID9C6A"
      }
    },
    {
      "cell_type": "code",
      "source": [
        "#Ex 01\n",
        "for x in range(1,11):\n",
        "    print(x)"
      ],
      "metadata": {
        "id": "k0bIilSs9BVp",
        "colab": {
          "base_uri": "https://localhost:8080/"
        },
        "outputId": "0c60ef78-3796-44f3-9ff8-34a9ab2b2be8"
      },
      "execution_count": 43,
      "outputs": [
        {
          "output_type": "stream",
          "name": "stdout",
          "text": [
            "1\n",
            "2\n",
            "3\n",
            "4\n",
            "5\n",
            "6\n",
            "7\n",
            "8\n",
            "9\n",
            "10\n"
          ]
        }
      ]
    },
    {
      "cell_type": "markdown",
      "source": [
        " Exercise 2: While Loop\n",
        " Problem: Write a program that asks the user to enter a positive number. Keep asking the user\n",
        " for a number until they enter a positive one. Once they enter a positive number, print it."
      ],
      "metadata": {
        "id": "EwXC04eQH8VL"
      }
    },
    {
      "cell_type": "code",
      "source": [
        "#Ex 02\n",
        "while True :\n",
        "  x=int(input(\"Enter a positive number: \"))\n",
        "  if x>0 :\n",
        "    print(x)\n",
        "    break\n",
        "  else:\n",
        "    continue"
      ],
      "metadata": {
        "id": "y_MRqp3RH-pj",
        "colab": {
          "base_uri": "https://localhost:8080/"
        },
        "outputId": "28d01865-97ed-41e6-cd9e-06ec5fb81492"
      },
      "execution_count": 49,
      "outputs": [
        {
          "output_type": "stream",
          "name": "stdout",
          "text": [
            "Enter a positive number: -7\n",
            "Enter a positive number: -5\n",
            "Enter a positive number: 6\n",
            "6\n"
          ]
        }
      ]
    },
    {
      "cell_type": "markdown",
      "source": [
        "Exercise 3: Nested Loops\n",
        " Problem: Write a program that prints a multiplication table for numbers 1 to 5. Use nested loops\n",
        " to generate the table."
      ],
      "metadata": {
        "id": "f4eK19ADICpp"
      }
    },
    {
      "cell_type": "code",
      "source": [
        "#Ex 03\n",
        "for x in range(1, 6):\n",
        "    for y in range(1, 6):\n",
        "        print(x * y, end=\" \")\n",
        "        #print(f\"{x} x {y} = {x * y}\")\n",
        "\n",
        "    print()\n"
      ],
      "metadata": {
        "id": "tFz8MjHTID2p",
        "colab": {
          "base_uri": "https://localhost:8080/"
        },
        "outputId": "08ef9b65-dc60-477d-c760-e4c4f8aafc11"
      },
      "execution_count": 54,
      "outputs": [
        {
          "output_type": "stream",
          "name": "stdout",
          "text": [
            "1 2 3 4 5 \n",
            "2 4 6 8 10 \n",
            "3 6 9 12 15 \n",
            "4 8 12 16 20 \n",
            "5 10 15 20 25 \n"
          ]
        }
      ]
    },
    {
      "cell_type": "markdown",
      "source": [
        "Exercise 4: Simple Function\n",
        " Problem: Write a function greet that takes a name as input and prints a greeting message,\n",
        " e.g., \"Hello, [name]!\"."
      ],
      "metadata": {
        "id": "xjX8DlzkIIGS"
      }
    },
    {
      "cell_type": "code",
      "source": [
        "#Ex 04\n",
        "\n",
        "def greet(name):\n",
        "\n",
        "  print(\"Hello, {}!\".format(name))\n",
        "\n",
        "greet(\"Eng. Ola\")\n"
      ],
      "metadata": {
        "id": "Rvh-cBkqIJFO",
        "colab": {
          "base_uri": "https://localhost:8080/"
        },
        "outputId": "a73cd3aa-f43b-4e89-de69-6dda9f687f8c"
      },
      "execution_count": 19,
      "outputs": [
        {
          "output_type": "stream",
          "name": "stdout",
          "text": [
            "Hello, Eng. Ola!\n"
          ]
        }
      ]
    },
    {
      "cell_type": "markdown",
      "source": [
        " Exercise 5: Function with Loop\n",
        " Problem: Write a function countdown that takes a number as input and prints a countdown\n",
        " from that number to zero using a loop"
      ],
      "metadata": {
        "id": "NORPwfMAINQ2"
      }
    },
    {
      "cell_type": "code",
      "source": [
        "#Ex 05\n",
        "\n",
        "def countdown(n):\n",
        "  for i in range(n, -1, -1):\n",
        "    print(i)\n",
        "\n",
        "countdown(7)\n"
      ],
      "metadata": {
        "id": "h_OJ-Tl9IOJ-"
      },
      "execution_count": null,
      "outputs": []
    },
    {
      "cell_type": "markdown",
      "source": [
        "Exercise 6: Function with Loop and Data Types (Lists)\n",
        " Problem: Write a function print_list that takes a list of strings as input and prints each\n",
        " string on a new line using a loop. Then, demonstrate the function with a list of your choice."
      ],
      "metadata": {
        "id": "WXAuRvlwIR1u"
      }
    },
    {
      "cell_type": "code",
      "source": [
        "#Ex 06\n",
        "def print_list(kurs):\n",
        "  for x in kurs:\n",
        "    print(x)\n",
        "\n",
        "my_list = [\"python\", \"is\", \"a\", \"part\", \"of\", \"KI-Kurs\"]\n",
        "print_list(my_list)\n"
      ],
      "metadata": {
        "id": "wbrhNRcfIS3O",
        "colab": {
          "base_uri": "https://localhost:8080/"
        },
        "outputId": "d6b0b337-e444-4765-ba9e-d1663a54cef7"
      },
      "execution_count": 26,
      "outputs": [
        {
          "output_type": "stream",
          "name": "stdout",
          "text": [
            "python\n",
            "is\n",
            "a\n",
            "part\n",
            "of\n",
            "KI-Kurs\n"
          ]
        }
      ]
    },
    {
      "cell_type": "markdown",
      "source": [
        "Exercise 7: Using break and continue\n",
        " Problem: Write a program that asks the user to enter numbers. If the user enters a negative\n",
        " number, the program should stop asking for input (using break). If the user enters a number\n",
        " greater than 100, the program should ignore it (using continue). Print each valid number\n",
        " entered by the user"
      ],
      "metadata": {
        "id": "kKnidts0IXBe"
      }
    },
    {
      "cell_type": "code",
      "source": [
        "# Ex 07\n",
        "while True:\n",
        "  user_input = int(input(\"Enter a number: \"))  # input user data\n",
        "\n",
        "  if user_input < 0:       # Check if the input is negative\n",
        "    break\n",
        "\n",
        "  elif user_input > 100:    # Check if the input is greater than 100\n",
        "    continue\n",
        "\n",
        "  else:\n",
        "    print(user_input)    #  input is valid, print it\n"
      ],
      "metadata": {
        "id": "krao8tpSIYQx",
        "colab": {
          "base_uri": "https://localhost:8080/"
        },
        "outputId": "e618409d-95be-46cd-e59c-3c2933514303"
      },
      "execution_count": 41,
      "outputs": [
        {
          "name": "stdout",
          "output_type": "stream",
          "text": [
            "Enter a number: 7\n",
            "7\n",
            "Enter a number: -5\n"
          ]
        }
      ]
    },
    {
      "cell_type": "markdown",
      "source": [
        "Exercise 8: Strings as Lists\n",
        " Problem: Write a function reverse_string that takes a string as input and returns the string\n",
        " reversed by treating it as a list of characters. Do not use any built-in string reversing methods"
      ],
      "metadata": {
        "id": "eVR2ZNMhIbfo"
      }
    },
    {
      "cell_type": "code",
      "source": [
        "def reverse_string(string):\n",
        "\n",
        "  reversed_s= \" \"\n",
        "\n",
        "  for char in string:\n",
        "    reversed_s = char + reversed_s\n",
        "  return reversed_s\n",
        "\n",
        "reverse_string(\"we have IA course at mystro\")"
      ],
      "metadata": {
        "colab": {
          "base_uri": "https://localhost:8080/",
          "height": 36
        },
        "id": "wh6Chw_OUiMU",
        "outputId": "d563db29-ca10-45e8-d5f5-2ca71a2da3c7"
      },
      "execution_count": 42,
      "outputs": [
        {
          "output_type": "execute_result",
          "data": {
            "text/plain": [
              "'ortsym ta esruoc AI evah ew '"
            ],
            "application/vnd.google.colaboratory.intrinsic+json": {
              "type": "string"
            }
          },
          "metadata": {},
          "execution_count": 42
        }
      ]
    }
  ]
}