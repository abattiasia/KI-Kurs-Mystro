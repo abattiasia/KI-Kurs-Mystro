{
  "nbformat": 4,
  "nbformat_minor": 0,
  "metadata": {
    "colab": {
      "provenance": [],
      "authorship_tag": "ABX9TyPQx13AL1VBY+vykIXfOruu",
      "include_colab_link": true
    },
    "kernelspec": {
      "name": "python3",
      "display_name": "Python 3"
    },
    "language_info": {
      "name": "python"
    }
  },
  "cells": [
    {
      "cell_type": "markdown",
      "metadata": {
        "id": "view-in-github",
        "colab_type": "text"
      },
      "source": [
        "<a href=\"https://colab.research.google.com/github/abattiasia/KI-Kurs-Mystro/blob/main/Explain_24_06_2024.ipynb\" target=\"_parent\"><img src=\"https://colab.research.google.com/assets/colab-badge.svg\" alt=\"Open In Colab\"/></a>"
      ]
    },
    {
      "cell_type": "code",
      "execution_count": null,
      "metadata": {
        "id": "NAFgnf-XYgF-"
      },
      "outputs": [],
      "source": []
    },
    {
      "cell_type": "markdown",
      "source": [
        "#Morning 24.06.2024\n",
        "##git and github for 2 PC\n",
        "\n",
        "###variables int, list , truple, dic\n",
        "\n",
        "###operators  <,  >, or, and\n",
        "\n",
        "###condiotions, if..:, alse:, nested if..:, elif..:\n",
        "\n",
        "###functions: def, return\n"
      ],
      "metadata": {
        "id": "ACIsH73jq6Ia"
      }
    },
    {
      "cell_type": "markdown",
      "source": [
        "#Ex"
      ],
      "metadata": {
        "id": "oXfRMMxzYpfF"
      }
    },
    {
      "cell_type": "code",
      "source": [
        "x=500\n",
        "if x > 500:\n",
        "  print (\"x is heigher than 600\")\n",
        "else:\n",
        "  print (\"x is smaller than 600\")"
      ],
      "metadata": {
        "colab": {
          "base_uri": "https://localhost:8080/"
        },
        "id": "hOOtKKBgYuXZ",
        "outputId": "c71bbb96-aa50-4c70-e73a-2adf08da3f8c"
      },
      "execution_count": 1,
      "outputs": [
        {
          "output_type": "stream",
          "name": "stdout",
          "text": [
            "x is smaller than 600\n"
          ]
        }
      ]
    },
    {
      "cell_type": "markdown",
      "source": [
        "\"\"\" if ..: elif ..: else"
      ],
      "metadata": {
        "id": "3aOqcJXHbUMS"
      }
    },
    {
      "cell_type": "code",
      "source": [
        "x=300\n",
        "if x > 200:\n",
        "  print (\"x is heigher than 100\")\n",
        "elif x==100 :\n",
        "  print (\"x is equel 100\")\n",
        "else:\n",
        "  print (\"x is smaller than 100\")"
      ],
      "metadata": {
        "colab": {
          "base_uri": "https://localhost:8080/"
        },
        "outputId": "05869962-fd02-4200-c1eb-f97ceb8b3923",
        "id": "VGGnBpajb94V"
      },
      "execution_count": 7,
      "outputs": [
        {
          "output_type": "stream",
          "name": "stdout",
          "text": [
            "x is heigher than 100\n"
          ]
        }
      ]
    },
    {
      "cell_type": "markdown",
      "source": [
        "# nested if"
      ],
      "metadata": {
        "id": "qLNOmwLXgLfS"
      }
    },
    {
      "cell_type": "code",
      "source": [
        "x=300\n",
        "if x >= 50:\n",
        "  print (\"x is heigher than 50\")\n",
        "\n",
        "  if x==70 :\n",
        "    print (\"x is 70\")\n",
        "  else :\n",
        "    print (\"x is equel 100\")\n",
        "\n",
        "else:\n",
        "  print (\"x is smaller than 100\")"
      ],
      "metadata": {
        "colab": {
          "base_uri": "https://localhost:8080/"
        },
        "id": "kTxYmQARgRe0",
        "outputId": "9372f745-5a65-41e8-c006-75f3092168ce"
      },
      "execution_count": 9,
      "outputs": [
        {
          "output_type": "stream",
          "name": "stdout",
          "text": [
            "x is heigher than 50\n",
            "x is equel 100\n"
          ]
        }
      ]
    },
    {
      "cell_type": "markdown",
      "source": [
        "\"\"\" new function"
      ],
      "metadata": {
        "id": "flN0SmfilWUZ"
      }
    },
    {
      "cell_type": "code",
      "source": [
        "age = int(input (\"Enter your Age : \"))\n",
        "print (age)\n",
        "print (age*2)"
      ],
      "metadata": {
        "colab": {
          "base_uri": "https://localhost:8080/"
        },
        "id": "oVq2Ng4tlbEh",
        "outputId": "20a6405c-f4d7-43b6-f434-bb3469b41878"
      },
      "execution_count": 11,
      "outputs": [
        {
          "output_type": "stream",
          "name": "stdout",
          "text": [
            "Enter your Age : 55\n",
            "55\n",
            "110\n"
          ]
        }
      ]
    },
    {
      "cell_type": "markdown",
      "source": [
        "\"\"\" and ,  or"
      ],
      "metadata": {
        "id": "iNGr3WgQm0oX"
      }
    },
    {
      "cell_type": "code",
      "source": [
        "username:\"\"\n",
        "pwd=\"\"\n",
        "if username==\"\" and pwd==\"\":\n",
        "  print (\"welcome ok\")\n",
        "else:\n",
        "  print()\"\" n.ok\n"
      ],
      "metadata": {
        "id": "Ej_JFyfGm40h"
      },
      "execution_count": null,
      "outputs": []
    },
    {
      "cell_type": "markdown",
      "source": [
        "\"\"\" true condition false"
      ],
      "metadata": {
        "id": "o1zdODgrnqAT"
      }
    },
    {
      "cell_type": "code",
      "source": [
        "username=\"admin\"\n",
        "print (username) if username == \"admin\" else print (\"erorr\")"
      ],
      "metadata": {
        "colab": {
          "base_uri": "https://localhost:8080/"
        },
        "id": "gyPGWhzRndS1",
        "outputId": "173a5a29-440c-4ef4-dc69-ea0296c5c905"
      },
      "execution_count": 14,
      "outputs": [
        {
          "output_type": "stream",
          "name": "stdout",
          "text": [
            "admin\n"
          ]
        }
      ]
    },
    {
      "cell_type": "markdown",
      "source": [
        "Functions:  internal and External"
      ],
      "metadata": {
        "id": "xmge49tdocAU"
      }
    },
    {
      "cell_type": "code",
      "source": [
        "def mysum(x,y):\n",
        "  result=x+y\n",
        "  return result\n",
        "\n",
        "print(mysum(4,7))\n"
      ],
      "metadata": {
        "colab": {
          "base_uri": "https://localhost:8080/"
        },
        "id": "NfJXUhK_oeiA",
        "outputId": "0d3da2aa-5450-434b-a758-aeb304a484c0"
      },
      "execution_count": 19,
      "outputs": [
        {
          "output_type": "stream",
          "name": "stdout",
          "text": [
            "11\n"
          ]
        }
      ]
    },
    {
      "cell_type": "markdown",
      "source": [
        "Function 02"
      ],
      "metadata": {
        "id": "LQWWRZKsp1hK"
      }
    },
    {
      "cell_type": "code",
      "source": [],
      "metadata": {
        "id": "bGeGQ8Yrp38B"
      },
      "execution_count": null,
      "outputs": []
    }
  ]
}